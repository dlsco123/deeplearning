{
 "cells": [
  {
   "cell_type": "code",
   "execution_count": 1,
   "metadata": {},
   "outputs": [
    {
     "name": "stderr",
     "output_type": "stream",
     "text": [
      "Cloning into 'data'...\n"
     ]
    }
   ],
   "source": [
    "import pandas as pd\n",
    "\n",
    "# 깃허브에 준비된 데이터를 가져옵니다.\n",
    " #아이리스 데이터를 불러옵니다.\n",
    "df = pd.read_csv('c:/data/data/iris3.csv')"
   ]
  },
  {
   "cell_type": "code",
   "execution_count": 9,
   "metadata": {},
   "outputs": [],
   "source": [
    "# df.iloc[:5,:]\n",
    "# df.iloc[:50, :]\n",
    "# df.iloc[50:100, :]\n",
    "# df.iloc[100:, :]\n"
   ]
  },
  {
   "cell_type": "code",
   "execution_count": 14,
   "metadata": {},
   "outputs": [
    {
     "data": {
      "text/plain": [
       "species\n",
       "Iris-setosa        50\n",
       "Iris-versicolor    50\n",
       "Iris-virginica     50\n",
       "Name: count, dtype: int64"
      ]
     },
     "execution_count": 14,
     "metadata": {},
     "output_type": "execute_result"
    }
   ],
   "source": [
    "## 추가\n",
    "## y값에 따라서 회귀, 이항분류 시그모이드, 이항분류이상의 소프트맥스\n",
    "## y값이 3개의 카테고리 중 한개를 선택하는 다항분류임으로\n",
    "## Dense 층의 가장 하단(최우측)의  output은 Dense(3, activation='softmax')\n",
    "## model.compile(loss='categorical_crossentropy')\n",
    "## ================================================> y값이 원핫인코딩 되어 있어야함\n",
    "## ================================================> y값이 숫자이지만 원핫인코딩이 안되어 있다면\n",
    "##                                model.compile(loss='sparse_categorical_crossentropy')\n",
    "\n",
    "df.iloc[:,4].value_counts()"
   ]
  },
  {
   "cell_type": "code",
   "execution_count": 11,
   "metadata": {},
   "outputs": [
    {
     "data": {
      "text/html": [
       "<div>\n",
       "<style scoped>\n",
       "    .dataframe tbody tr th:only-of-type {\n",
       "        vertical-align: middle;\n",
       "    }\n",
       "\n",
       "    .dataframe tbody tr th {\n",
       "        vertical-align: top;\n",
       "    }\n",
       "\n",
       "    .dataframe thead th {\n",
       "        text-align: right;\n",
       "    }\n",
       "</style>\n",
       "<table border=\"1\" class=\"dataframe\">\n",
       "  <thead>\n",
       "    <tr style=\"text-align: right;\">\n",
       "      <th></th>\n",
       "      <th>Iris-setosa</th>\n",
       "      <th>Iris-versicolor</th>\n",
       "      <th>Iris-virginica</th>\n",
       "    </tr>\n",
       "  </thead>\n",
       "  <tbody>\n",
       "    <tr>\n",
       "      <th>0</th>\n",
       "      <td>True</td>\n",
       "      <td>False</td>\n",
       "      <td>False</td>\n",
       "    </tr>\n",
       "    <tr>\n",
       "      <th>1</th>\n",
       "      <td>True</td>\n",
       "      <td>False</td>\n",
       "      <td>False</td>\n",
       "    </tr>\n",
       "    <tr>\n",
       "      <th>2</th>\n",
       "      <td>True</td>\n",
       "      <td>False</td>\n",
       "      <td>False</td>\n",
       "    </tr>\n",
       "  </tbody>\n",
       "</table>\n",
       "</div>"
      ],
      "text/plain": [
       "   Iris-setosa  Iris-versicolor  Iris-virginica\n",
       "0         True            False           False\n",
       "1         True            False           False\n",
       "2         True            False           False"
      ]
     },
     "execution_count": 11,
     "metadata": {},
     "output_type": "execute_result"
    }
   ],
   "source": [
    "## 머신러닝, 딥러닝의 데이터셋은 모두 숫자여야함.\n",
    "## Null값 있으면 안됨\n",
    "X=df.iloc[:, :4] \n",
    "y=df.iloc[:,4]\n",
    "\n",
    "# y값은 문자이면 안됨.\n",
    "# 텐서플로우 작업에서는 y값을 레벨인코딩 까지만 해도 됨\n",
    "# loss에서 원핫인코딩해라 라고 정의할수 있음.\n",
    "\n",
    "y=pd.get_dummies(y)\n",
    "y[:3]\n",
    "\n"
   ]
  },
  {
   "cell_type": "code",
   "execution_count": 21,
   "metadata": {},
   "outputs": [
    {
     "data": {
      "text/plain": [
       "(112, 38)"
      ]
     },
     "execution_count": 21,
     "metadata": {},
     "output_type": "execute_result"
    }
   ],
   "source": [
    "from sklearn.model_selection import train_test_split\n",
    "\n",
    "# X_train, X_test, y_train, y_test 의 순서에 유의해주세요\n",
    "X_train, X_test, y_train, y_test = train_test_split(X, y, stratify=y, random_state=777)  # 150 개중 *75%는  train.\n",
    "\n",
    "len(X_train),len(X_test)\n"
   ]
  },
  {
   "cell_type": "code",
   "execution_count": 18,
   "metadata": {},
   "outputs": [
    {
     "data": {
      "text/plain": [
       "4"
      ]
     },
     "execution_count": 18,
     "metadata": {},
     "output_type": "execute_result"
    }
   ],
   "source": [
    "import numpy as np\n",
    "inNum=np.shape(X)[1]\n"
   ]
  },
  {
   "cell_type": "code",
   "execution_count": 30,
   "metadata": {},
   "outputs": [
    {
     "name": "stdout",
     "output_type": "stream",
     "text": [
      "Model: \"sequential_3\"\n",
      "_________________________________________________________________\n",
      " Layer (type)                Output Shape              Param #   \n",
      "=================================================================\n",
      " dense_9 (Dense)             (None, 12)                60        \n",
      "                                                                 \n",
      " dense_10 (Dense)            (None, 8)                 104       \n",
      "                                                                 \n",
      " dense_11 (Dense)            (None, 3)                 27        \n",
      "                                                                 \n",
      "=================================================================\n",
      "Total params: 191\n",
      "Trainable params: 191\n",
      "Non-trainable params: 0\n",
      "_________________________________________________________________\n",
      "Epoch 1/80\n",
      "23/23 [==============================] - 0s 8ms/step - loss: 1.2077 - accuracy: 0.3304 - val_loss: 1.0440 - val_accuracy: 0.3421\n",
      "Epoch 2/80\n",
      "23/23 [==============================] - 0s 4ms/step - loss: 0.9759 - accuracy: 0.5179 - val_loss: 0.8951 - val_accuracy: 0.6579\n",
      "Epoch 3/80\n",
      "23/23 [==============================] - 0s 4ms/step - loss: 0.8741 - accuracy: 0.6696 - val_loss: 0.8568 - val_accuracy: 0.6579\n",
      "Epoch 4/80\n",
      "23/23 [==============================] - 0s 4ms/step - loss: 0.8346 - accuracy: 0.6696 - val_loss: 0.8210 - val_accuracy: 0.6579\n",
      "Epoch 5/80\n",
      "23/23 [==============================] - 0s 4ms/step - loss: 0.8002 - accuracy: 0.6696 - val_loss: 0.7882 - val_accuracy: 0.6579\n",
      "Epoch 6/80\n",
      "23/23 [==============================] - 0s 4ms/step - loss: 0.7700 - accuracy: 0.6696 - val_loss: 0.7582 - val_accuracy: 0.6579\n",
      "Epoch 7/80\n",
      "23/23 [==============================] - 0s 4ms/step - loss: 0.7388 - accuracy: 0.6696 - val_loss: 0.7327 - val_accuracy: 0.6579\n",
      "Epoch 8/80\n",
      "23/23 [==============================] - 0s 4ms/step - loss: 0.7146 - accuracy: 0.6696 - val_loss: 0.7088 - val_accuracy: 0.6579\n",
      "Epoch 9/80\n",
      "23/23 [==============================] - 0s 4ms/step - loss: 0.6913 - accuracy: 0.6696 - val_loss: 0.6866 - val_accuracy: 0.6579\n",
      "Epoch 10/80\n",
      "23/23 [==============================] - 0s 4ms/step - loss: 0.6695 - accuracy: 0.6696 - val_loss: 0.6661 - val_accuracy: 0.6579\n",
      "Epoch 11/80\n",
      "23/23 [==============================] - 0s 4ms/step - loss: 0.6482 - accuracy: 0.6696 - val_loss: 0.6467 - val_accuracy: 0.6579\n",
      "Epoch 12/80\n",
      "23/23 [==============================] - 0s 4ms/step - loss: 0.6281 - accuracy: 0.6696 - val_loss: 0.6272 - val_accuracy: 0.6579\n",
      "Epoch 13/80\n",
      "23/23 [==============================] - 0s 4ms/step - loss: 0.6083 - accuracy: 0.6696 - val_loss: 0.6065 - val_accuracy: 0.6579\n",
      "Epoch 14/80\n",
      "23/23 [==============================] - 0s 4ms/step - loss: 0.5884 - accuracy: 0.6696 - val_loss: 0.5886 - val_accuracy: 0.6579\n",
      "Epoch 15/80\n",
      "23/23 [==============================] - 0s 4ms/step - loss: 0.5667 - accuracy: 0.6696 - val_loss: 0.5677 - val_accuracy: 0.6579\n",
      "Epoch 16/80\n",
      "23/23 [==============================] - 0s 4ms/step - loss: 0.5483 - accuracy: 0.6875 - val_loss: 0.5517 - val_accuracy: 0.6579\n",
      "Epoch 17/80\n",
      "23/23 [==============================] - 0s 5ms/step - loss: 0.5281 - accuracy: 0.6875 - val_loss: 0.5288 - val_accuracy: 0.7105\n",
      "Epoch 18/80\n",
      "23/23 [==============================] - 0s 4ms/step - loss: 0.5065 - accuracy: 0.7054 - val_loss: 0.5103 - val_accuracy: 0.7368\n",
      "Epoch 19/80\n",
      "23/23 [==============================] - 0s 4ms/step - loss: 0.4875 - accuracy: 0.7679 - val_loss: 0.4923 - val_accuracy: 0.7368\n",
      "Epoch 20/80\n",
      "23/23 [==============================] - 0s 4ms/step - loss: 0.4668 - accuracy: 0.8036 - val_loss: 0.4730 - val_accuracy: 0.7368\n",
      "Epoch 21/80\n",
      "23/23 [==============================] - 0s 4ms/step - loss: 0.4467 - accuracy: 0.8661 - val_loss: 0.4566 - val_accuracy: 0.7368\n",
      "Epoch 22/80\n",
      "23/23 [==============================] - 0s 4ms/step - loss: 0.4277 - accuracy: 0.9107 - val_loss: 0.4373 - val_accuracy: 0.8158\n",
      "Epoch 23/80\n",
      "23/23 [==============================] - 0s 4ms/step - loss: 0.4113 - accuracy: 0.9107 - val_loss: 0.4202 - val_accuracy: 0.8684\n",
      "Epoch 24/80\n",
      "23/23 [==============================] - 0s 3ms/step - loss: 0.3997 - accuracy: 0.9732 - val_loss: 0.4045 - val_accuracy: 0.9211\n",
      "Epoch 25/80\n",
      "23/23 [==============================] - 0s 4ms/step - loss: 0.3798 - accuracy: 0.9554 - val_loss: 0.4009 - val_accuracy: 0.8158\n",
      "Epoch 26/80\n",
      "23/23 [==============================] - 0s 4ms/step - loss: 0.3657 - accuracy: 0.9464 - val_loss: 0.3824 - val_accuracy: 0.8947\n",
      "Epoch 27/80\n",
      "23/23 [==============================] - 0s 3ms/step - loss: 0.3568 - accuracy: 0.9286 - val_loss: 0.3675 - val_accuracy: 0.9737\n",
      "Epoch 28/80\n",
      "23/23 [==============================] - 0s 4ms/step - loss: 0.3403 - accuracy: 0.9732 - val_loss: 0.3614 - val_accuracy: 0.9211\n",
      "Epoch 29/80\n",
      "23/23 [==============================] - 0s 4ms/step - loss: 0.3315 - accuracy: 0.9464 - val_loss: 0.3463 - val_accuracy: 0.9474\n",
      "Epoch 30/80\n",
      "23/23 [==============================] - 0s 4ms/step - loss: 0.3207 - accuracy: 0.9643 - val_loss: 0.3364 - val_accuracy: 0.9737\n",
      "Epoch 31/80\n",
      "23/23 [==============================] - 0s 3ms/step - loss: 0.3072 - accuracy: 0.9732 - val_loss: 0.3256 - val_accuracy: 0.9737\n",
      "Epoch 32/80\n",
      "23/23 [==============================] - 0s 4ms/step - loss: 0.2990 - accuracy: 0.9464 - val_loss: 0.3229 - val_accuracy: 0.9474\n",
      "Epoch 33/80\n",
      "23/23 [==============================] - 0s 4ms/step - loss: 0.2950 - accuracy: 0.9375 - val_loss: 0.3086 - val_accuracy: 0.9474\n",
      "Epoch 34/80\n",
      "23/23 [==============================] - 0s 4ms/step - loss: 0.2784 - accuracy: 0.9643 - val_loss: 0.3030 - val_accuracy: 0.9474\n",
      "Epoch 35/80\n",
      "23/23 [==============================] - 0s 4ms/step - loss: 0.2656 - accuracy: 0.9821 - val_loss: 0.3026 - val_accuracy: 0.9474\n",
      "Epoch 36/80\n",
      "23/23 [==============================] - 0s 4ms/step - loss: 0.2559 - accuracy: 0.9732 - val_loss: 0.2819 - val_accuracy: 0.9737\n",
      "Epoch 37/80\n",
      "23/23 [==============================] - 0s 4ms/step - loss: 0.2480 - accuracy: 0.9821 - val_loss: 0.2789 - val_accuracy: 0.9474\n",
      "Epoch 38/80\n",
      "23/23 [==============================] - 0s 4ms/step - loss: 0.2367 - accuracy: 0.9821 - val_loss: 0.2736 - val_accuracy: 0.9474\n",
      "Epoch 39/80\n",
      "23/23 [==============================] - 0s 4ms/step - loss: 0.2294 - accuracy: 0.9821 - val_loss: 0.2635 - val_accuracy: 0.9737\n",
      "Epoch 40/80\n",
      "23/23 [==============================] - 0s 3ms/step - loss: 0.2212 - accuracy: 0.9821 - val_loss: 0.2564 - val_accuracy: 0.9737\n",
      "Epoch 41/80\n",
      "23/23 [==============================] - 0s 4ms/step - loss: 0.2141 - accuracy: 0.9821 - val_loss: 0.2474 - val_accuracy: 0.9737\n",
      "Epoch 42/80\n",
      "23/23 [==============================] - 0s 4ms/step - loss: 0.2076 - accuracy: 0.9821 - val_loss: 0.2526 - val_accuracy: 0.9474\n",
      "Epoch 43/80\n",
      "23/23 [==============================] - 0s 4ms/step - loss: 0.1974 - accuracy: 0.9821 - val_loss: 0.2358 - val_accuracy: 0.9737\n",
      "Epoch 44/80\n",
      "23/23 [==============================] - 0s 3ms/step - loss: 0.1952 - accuracy: 0.9821 - val_loss: 0.2481 - val_accuracy: 0.9474\n",
      "Epoch 45/80\n",
      "23/23 [==============================] - 0s 3ms/step - loss: 0.1870 - accuracy: 0.9821 - val_loss: 0.2251 - val_accuracy: 0.9737\n",
      "Epoch 46/80\n",
      "23/23 [==============================] - 0s 4ms/step - loss: 0.1801 - accuracy: 0.9732 - val_loss: 0.2227 - val_accuracy: 0.9474\n",
      "Epoch 47/80\n",
      "23/23 [==============================] - 0s 4ms/step - loss: 0.1747 - accuracy: 0.9821 - val_loss: 0.2144 - val_accuracy: 0.9737\n",
      "Epoch 48/80\n",
      "23/23 [==============================] - 0s 3ms/step - loss: 0.1698 - accuracy: 0.9821 - val_loss: 0.2183 - val_accuracy: 0.9474\n",
      "Epoch 49/80\n",
      "23/23 [==============================] - 0s 4ms/step - loss: 0.1667 - accuracy: 0.9821 - val_loss: 0.2105 - val_accuracy: 0.9474\n",
      "Epoch 50/80\n",
      "23/23 [==============================] - 0s 3ms/step - loss: 0.1582 - accuracy: 0.9821 - val_loss: 0.2139 - val_accuracy: 0.9474\n",
      "Epoch 51/80\n",
      "23/23 [==============================] - 0s 4ms/step - loss: 0.1559 - accuracy: 0.9821 - val_loss: 0.1981 - val_accuracy: 0.9737\n",
      "Epoch 52/80\n",
      "23/23 [==============================] - 0s 4ms/step - loss: 0.1585 - accuracy: 0.9821 - val_loss: 0.2037 - val_accuracy: 0.9474\n",
      "Epoch 53/80\n",
      "23/23 [==============================] - 0s 3ms/step - loss: 0.1462 - accuracy: 0.9821 - val_loss: 0.1911 - val_accuracy: 0.9737\n",
      "Epoch 54/80\n",
      "23/23 [==============================] - 0s 3ms/step - loss: 0.1392 - accuracy: 0.9821 - val_loss: 0.1984 - val_accuracy: 0.9474\n",
      "Epoch 55/80\n",
      "23/23 [==============================] - 0s 4ms/step - loss: 0.1388 - accuracy: 0.9732 - val_loss: 0.1860 - val_accuracy: 0.9737\n",
      "Epoch 56/80\n",
      "23/23 [==============================] - 0s 4ms/step - loss: 0.1334 - accuracy: 0.9911 - val_loss: 0.1899 - val_accuracy: 0.9474\n",
      "Epoch 57/80\n",
      "23/23 [==============================] - 0s 4ms/step - loss: 0.1327 - accuracy: 0.9911 - val_loss: 0.1806 - val_accuracy: 0.9474\n",
      "Epoch 58/80\n",
      "23/23 [==============================] - 0s 4ms/step - loss: 0.1264 - accuracy: 0.9821 - val_loss: 0.1794 - val_accuracy: 0.9474\n",
      "Epoch 59/80\n",
      "23/23 [==============================] - 0s 4ms/step - loss: 0.1254 - accuracy: 0.9821 - val_loss: 0.1853 - val_accuracy: 0.9474\n",
      "Epoch 60/80\n",
      "23/23 [==============================] - 0s 4ms/step - loss: 0.1235 - accuracy: 0.9732 - val_loss: 0.1711 - val_accuracy: 0.9737\n",
      "Epoch 61/80\n",
      "23/23 [==============================] - 0s 4ms/step - loss: 0.1291 - accuracy: 0.9732 - val_loss: 0.1691 - val_accuracy: 0.9737\n",
      "Epoch 62/80\n",
      "23/23 [==============================] - 0s 4ms/step - loss: 0.1192 - accuracy: 0.9821 - val_loss: 0.1678 - val_accuracy: 0.9474\n",
      "Epoch 63/80\n",
      "23/23 [==============================] - 0s 4ms/step - loss: 0.1137 - accuracy: 0.9732 - val_loss: 0.1689 - val_accuracy: 0.9474\n",
      "Epoch 64/80\n",
      "23/23 [==============================] - 0s 3ms/step - loss: 0.1115 - accuracy: 0.9911 - val_loss: 0.1709 - val_accuracy: 0.9474\n",
      "Epoch 65/80\n",
      "23/23 [==============================] - 0s 4ms/step - loss: 0.1091 - accuracy: 0.9732 - val_loss: 0.1662 - val_accuracy: 0.9474\n",
      "Epoch 66/80\n",
      "23/23 [==============================] - 0s 4ms/step - loss: 0.1066 - accuracy: 0.9821 - val_loss: 0.1618 - val_accuracy: 0.9474\n",
      "Epoch 67/80\n",
      "23/23 [==============================] - 0s 4ms/step - loss: 0.1050 - accuracy: 0.9821 - val_loss: 0.1739 - val_accuracy: 0.9474\n",
      "Epoch 68/80\n",
      "23/23 [==============================] - 0s 3ms/step - loss: 0.1000 - accuracy: 0.9821 - val_loss: 0.1556 - val_accuracy: 0.9737\n",
      "Epoch 69/80\n",
      "23/23 [==============================] - 0s 4ms/step - loss: 0.1033 - accuracy: 0.9821 - val_loss: 0.1623 - val_accuracy: 0.9474\n",
      "Epoch 70/80\n",
      "23/23 [==============================] - 0s 3ms/step - loss: 0.1002 - accuracy: 0.9821 - val_loss: 0.1563 - val_accuracy: 0.9474\n",
      "Epoch 71/80\n",
      "23/23 [==============================] - 0s 3ms/step - loss: 0.0966 - accuracy: 0.9732 - val_loss: 0.1672 - val_accuracy: 0.9474\n",
      "Epoch 72/80\n",
      "23/23 [==============================] - 0s 3ms/step - loss: 0.0938 - accuracy: 0.9732 - val_loss: 0.1508 - val_accuracy: 0.9474\n",
      "Epoch 73/80\n",
      "23/23 [==============================] - 0s 4ms/step - loss: 0.0949 - accuracy: 0.9821 - val_loss: 0.1492 - val_accuracy: 0.9474\n",
      "Epoch 74/80\n",
      "23/23 [==============================] - 0s 3ms/step - loss: 0.0967 - accuracy: 0.9732 - val_loss: 0.1467 - val_accuracy: 0.9737\n",
      "Epoch 75/80\n",
      "23/23 [==============================] - 0s 3ms/step - loss: 0.0907 - accuracy: 0.9911 - val_loss: 0.1637 - val_accuracy: 0.9474\n",
      "Epoch 76/80\n",
      "23/23 [==============================] - 0s 3ms/step - loss: 0.0934 - accuracy: 0.9821 - val_loss: 0.1450 - val_accuracy: 0.9474\n",
      "Epoch 77/80\n",
      "23/23 [==============================] - 0s 4ms/step - loss: 0.0901 - accuracy: 0.9821 - val_loss: 0.1456 - val_accuracy: 0.9474\n",
      "Epoch 78/80\n",
      "23/23 [==============================] - 0s 3ms/step - loss: 0.0862 - accuracy: 0.9821 - val_loss: 0.1457 - val_accuracy: 0.9474\n",
      "Epoch 79/80\n",
      "23/23 [==============================] - 0s 4ms/step - loss: 0.0837 - accuracy: 0.9821 - val_loss: 0.1507 - val_accuracy: 0.9474\n",
      "Epoch 80/80\n",
      "23/23 [==============================] - 0s 4ms/step - loss: 0.0820 - accuracy: 0.9821 - val_loss: 0.1469 - val_accuracy: 0.9474\n"
     ]
    }
   ],
   "source": [
    "from tensorflow.keras.models import Sequential\n",
    "from tensorflow.keras.layers import Dense\n",
    "\n",
    "# 모델 설정\n",
    "model = Sequential()\n",
    "model.add(Dense(12,  input_dim=4, activation='relu')) # x값이4개 w(4)+b(1)=5개파람 *  12개=>60개\n",
    "model.add(Dense(8,  activation='relu'))  # x값이 12개  w(12)+b(1)=13개파람 * 8개=104개\n",
    "model.add(Dense(3, activation='softmax')) # x값이 8개 w(8)+b(1)=9개파람 * 3개=27개\n",
    "model.summary()\n",
    "\n",
    "# 모델 컴파일\n",
    "hist=model.compile(loss='categorical_crossentropy', optimizer='adam', metrics=['accuracy'])\n",
    "\n",
    "# 모델 실행\n",
    "# 전체112개(150개중75%의)의 데이터셋, 배치5 총 (112/5)=> 23회의 배치작업이 이루어짐. 배치23회*에포크80회=총 1840회의 optimizer='adam'작업이 이루어짐\n",
    "# 배치에서는 w,b갱신만하고 총배치가 다끝나는 1에포크에서 생성된 w,b값을  validation_data에 넣어서 확인함\n",
    "history=model.fit(X_train, y_train, \n",
    "                  epochs=80, \n",
    "                  batch_size=5, \n",
    "                  validation_data=(X_test, y_test))  "
   ]
  },
  {
   "cell_type": "code",
   "execution_count": 35,
   "metadata": {},
   "outputs": [
    {
     "data": {
      "text/plain": [
       "[<matplotlib.lines.Line2D at 0x20d748a0550>]"
      ]
     },
     "execution_count": 35,
     "metadata": {},
     "output_type": "execute_result"
    },
    {
     "data": {
      "image/png": "[encoded data removed]",
      "text/plain": [
       "<Figure size 1000x200 with 1 Axes>"
      ]
     },
     "metadata": {},
     "output_type": "display_data"
    }
   ],
   "source": [
    "list(history.history)\n",
    "\n",
    "import matplotlib.pyplot as plt\n",
    "\n",
    "plt.figure(figsize=(10,2))\n",
    "plt.plot(history.history['loss'])\n",
    "plt.plot(history.history['val_loss'],'r--')\n",
    "\n",
    "plt.plot(history.history['accuracy'],'b')\n",
    "plt.plot(history.history['val_accuracy'],'r--')\n",
    "\n"
   ]
  },
  {
   "cell_type": "code",
   "execution_count": 50,
   "metadata": {},
   "outputs": [],
   "source": [
    "#df.head()\n",
    "newX=[5.2,3.2,1.5,0.3]\n",
    "\n",
    "X_train[:3].values\n",
    "\n",
    "input_newX=np.reshape(newX, (1,-1))\n",
    "result=model.predict(input_newX) # 3개의 카테고리의 확률값으로 출력이 되고, 다 합치면 1이 됨. 가장 큰 값을 갖고 있는 위치값을 찾아내면 됨\n",
    "result_num=np.argmax(result)\n",
    "result_num"
   ]
  },
  {
   "cell_type": "code",
   "execution_count": 51,
   "metadata": {},
   "outputs": [
    {
     "data": {
      "text/plain": [
       "'Iris-setosa'"
      ]
     },
     "execution_count": 51,
     "metadata": {},
     "output_type": "execute_result"
    }
   ],
   "source": [
    "class_names=y_train.columns\n",
    "class_names[result_num]"
   ]
  }
 ],
 "metadata": {
  "kernelspec": {
   "display_name": "gpu",
   "language": "python",
   "name": "python3"
  },
  "language_info": {
   "codemirror_mode": {
    "name": "ipython",
    "version": 3
   },
   "file_extension": ".py",
   "mimetype": "text/x-python",
   "name": "python",
   "nbconvert_exporter": "python",
   "pygments_lexer": "ipython3",
   "version": "3.8.16"
  },
  "orig_nbformat": 4
 },
 "nbformat": 4,
 "nbformat_minor": 2
}
