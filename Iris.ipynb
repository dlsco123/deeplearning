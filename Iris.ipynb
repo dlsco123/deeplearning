{
 "cells": [
  {
   "attachments": {},
   "cell_type": "markdown",
   "metadata": {},
   "source": [
    "## Data Loading"
   ]
  },
  {
   "cell_type": "code",
   "execution_count": 1,
   "metadata": {},
   "outputs": [],
   "source": [
    "import pandas as pd\n",
    "# 깃허브에 준비된 데이터를 가져옵니다.\n",
    "#아이리스 데이터를 불러옵니다.\n",
    "df = pd.read_csv('c:/data/data/iris3.csv')"
   ]
  },
  {
   "attachments": {},
   "cell_type": "markdown",
   "metadata": {},
   "source": [
    "## Confirm Y value\n",
    " - y값에 따라서 회귀, 이항분류 시그모이드, 이항분류이상의 소프트맥스\n",
    " - y값이 3개의 카테고리 중 한개를 선택하는 다항분류임으로\n",
    " - Dense 층의 가장 하단(최우측)의 output은 Dense(3, activation='softmax')\n",
    " - model.compile(loss='categorical_crossentropy')\n",
    " - ================================================> y값이 원핫인코딩 되어 있어야함\n",
    " - ================================================> y값이 숫자이지만 원핫인코딩이 안되어 있다면"
   ]
  },
  {
   "cell_type": "code",
   "execution_count": 3,
   "metadata": {},
   "outputs": [
    {
     "data": {
      "text/plain": [
       "species\n",
       "Iris-setosa        50\n",
       "Iris-versicolor    50\n",
       "Iris-virginica     50\n",
       "Name: count, dtype: int64"
      ]
     },
     "execution_count": 3,
     "metadata": {},
     "output_type": "execute_result"
    }
   ],
   "source": [
    "# 아래의 결과를 확인하염 3개의 카테고리로 되어 있음을 알수 있음\n",
    "df.iloc[:,4].value_counts()"
   ]
  },
  {
   "cell_type": "code",
   "execution_count": 4,
   "metadata": {},
   "outputs": [
    {
     "data": {
      "text/plain": [
       "3"
      ]
     },
     "execution_count": 4,
     "metadata": {},
     "output_type": "execute_result"
    }
   ],
   "source": [
    "# 카테고리 갯수를 알고자 한다면\n",
    "len(df.iloc[:,4].value_counts())"
   ]
  },
  {
   "cell_type": "code",
   "execution_count": 5,
   "metadata": {},
   "outputs": [
    {
     "data": {
      "text/plain": [
       "<BarContainer object of 3 artists>"
      ]
     },
     "execution_count": 5,
     "metadata": {},
     "output_type": "execute_result"
    },
    {
     "data": {
      "image/png": "[encoded data removed]",
      "text/plain": [
       "<Figure size 300x200 with 1 Axes>"
      ]
     },
     "metadata": {},
     "output_type": "display_data"
    }
   ],
   "source": [
    "# 데이터의 편향없이 3개의 카테고리에 갯수가 잘 분포되어 있는지를 확인하려면\n",
    "import matplotlib.pyplot as plt\n",
    "\n",
    "tmp=df.iloc[:,4].value_counts()\n",
    "\n",
    "plt.figure(figsize=(3,2))\n",
    "plt.barh(tmp.index, tmp)   #barh는 x값라벨의 글자가 길어서 잘 안보일때 유용함"
   ]
  },
  {
   "attachments": {},
   "cell_type": "markdown",
   "metadata": {},
   "source": [
    "## Separate X and Y\n",
    " - 머신러닝, 딥러닝의 데이터셋은 모두 숫자여야함.\n",
    " - Null값 있으면 안됨"
   ]
  },
  {
   "cell_type": "code",
   "execution_count": 6,
   "metadata": {},
   "outputs": [
    {
     "name": "stdout",
     "output_type": "stream",
     "text": [
      "<class 'pandas.core.frame.DataFrame'>\n",
      "RangeIndex: 150 entries, 0 to 149\n",
      "Data columns (total 5 columns):\n",
      " #   Column        Non-Null Count  Dtype  \n",
      "---  ------        --------------  -----  \n",
      " 0   sepal_length  150 non-null    float64\n",
      " 1   sepal_width   150 non-null    float64\n",
      " 2   petal_length  150 non-null    float64\n",
      " 3   petal_width   150 non-null    float64\n",
      " 4   species       150 non-null    object \n",
      "dtypes: float64(4), object(1)\n",
      "memory usage: 6.0+ KB\n"
     ]
    }
   ],
   "source": [
    "df.info()"
   ]
  },
  {
   "cell_type": "code",
   "execution_count": 7,
   "metadata": {},
   "outputs": [
    {
     "data": {
      "text/plain": [
       "sepal_length    0\n",
       "sepal_width     0\n",
       "petal_length    0\n",
       "petal_width     0\n",
       "species         0\n",
       "dtype: int64"
      ]
     },
     "execution_count": 7,
     "metadata": {},
     "output_type": "execute_result"
    }
   ],
   "source": [
    "df.isnull().sum()"
   ]
  },
  {
   "cell_type": "code",
   "execution_count": 8,
   "metadata": {},
   "outputs": [
    {
     "name": "stdout",
     "output_type": "stream",
     "text": [
      "   sepal_length  sepal_width  petal_length  petal_width\n",
      "0           5.1          3.5           1.4          0.2\n",
      "1           4.9          3.0           1.4          0.2\n",
      "2           4.7          3.2           1.3          0.2\n",
      "3           4.6          3.1           1.5          0.2\n",
      "4           5.0          3.6           1.4          0.2\n",
      "0    Iris-setosa\n",
      "1    Iris-setosa\n",
      "2    Iris-setosa\n",
      "3    Iris-setosa\n",
      "4    Iris-setosa\n",
      "Name: species, dtype: object\n"
     ]
    }
   ],
   "source": [
    "X=df.iloc[:, :4] \n",
    "y=df.iloc[:,4]\n",
    "\n",
    "print(X.head())\n",
    "print(y.head())"
   ]
  },
  {
   "cell_type": "code",
   "execution_count": 9,
   "metadata": {},
   "outputs": [
    {
     "data": {
      "text/html": [
       "<div>\n",
       "<style scoped>\n",
       "    .dataframe tbody tr th:only-of-type {\n",
       "        vertical-align: middle;\n",
       "    }\n",
       "\n",
       "    .dataframe tbody tr th {\n",
       "        vertical-align: top;\n",
       "    }\n",
       "\n",
       "    .dataframe thead th {\n",
       "        text-align: right;\n",
       "    }\n",
       "</style>\n",
       "<table border=\"1\" class=\"dataframe\">\n",
       "  <thead>\n",
       "    <tr style=\"text-align: right;\">\n",
       "      <th></th>\n",
       "      <th>Iris-setosa</th>\n",
       "      <th>Iris-versicolor</th>\n",
       "      <th>Iris-virginica</th>\n",
       "    </tr>\n",
       "  </thead>\n",
       "  <tbody>\n",
       "    <tr>\n",
       "      <th>0</th>\n",
       "      <td>True</td>\n",
       "      <td>False</td>\n",
       "      <td>False</td>\n",
       "    </tr>\n",
       "    <tr>\n",
       "      <th>1</th>\n",
       "      <td>True</td>\n",
       "      <td>False</td>\n",
       "      <td>False</td>\n",
       "    </tr>\n",
       "    <tr>\n",
       "      <th>2</th>\n",
       "      <td>True</td>\n",
       "      <td>False</td>\n",
       "      <td>False</td>\n",
       "    </tr>\n",
       "  </tbody>\n",
       "</table>\n",
       "</div>"
      ],
      "text/plain": [
       "   Iris-setosa  Iris-versicolor  Iris-virginica\n",
       "0         True            False           False\n",
       "1         True            False           False\n",
       "2         True            False           False"
      ]
     },
     "execution_count": 9,
     "metadata": {},
     "output_type": "execute_result"
    }
   ],
   "source": [
    "# y값은 문자이면 안됨.\n",
    "\n",
    "# 텐서플로우에서는 \n",
    "# 레벨인코딩까지만 하고  model.compile(loss='sparse_categorical_crossentropy'     로 작업하면 되고(이 명령이 원핫인코딩을 수행해줌)\n",
    "# 원핫인코딩 또는 더미변수화를 시키면  model.compile(loss='categorical_crossentropy'  로 작업함\n",
    "\n",
    "# 데이터프레임이어서 더미변수명령이 가능함.. 만약 데이터프레임이 아니라면 , 레벨인코딩하고->원핫인코딩하는 작업을 진행해야함.\n",
    "# 제공한 자료의 06.활성화함수_소프트맥스.pptx에서의  1-2번 슬라이드 참조\n",
    "#  하단의 이미지 참조\n",
    "y=pd.get_dummies(y)  \n",
    "y[:3]"
   ]
  },
  {
   "attachments": {},
   "cell_type": "markdown",
   "metadata": {},
   "source": [
    "## Split train and test\n",
    " - 트레이닝 테스트 데이터를 분리하여서 훈련데이터로 w,b를 갱신하고, 테스트데이터에 w,b를 적용하여 모델의 적합성을 검증함.\n",
    " - 비정형 데이터 분석에서는 트레이닝 테스트를 분리하는 사이킷런 모듈이 필요하지 않을수도 있음.\n",
    "  - 비정형데이터 분석에서는 자신의 PC에 폴더별로 자료를 넣어놓으면 (예: 강아지폴더에 강아지사진... , 고양이폴더에 고양이 사진....)\n",
    "  - 텐서플로우나, 파이토치등의 딥러닝 프레임워크에서 폴더에 있는 자료에서 트레이닝과 테스트를 나누어서 불러오는 'load_directory' 기능을 제공함.\n",
    "  - 이 기능을 사용하면 자동으로 폴더 이름을 이용하여서 자동으로 y값을 레벨 인코딩 까지 하면서 자료를 만듦.\n",
    "  - 배치사이즈도 지정하면 그 숫자만큼 데이터를 읽어오는 기능도 제공함"
   ]
  },
  {
   "cell_type": "code",
   "execution_count": 10,
   "metadata": {},
   "outputs": [
    {
     "data": {
      "text/plain": [
       "((112, 4), (112, 3), (38, 4), (38, 3))"
      ]
     },
     "execution_count": 10,
     "metadata": {},
     "output_type": "execute_result"
    }
   ],
   "source": [
    "from sklearn.model_selection import train_test_split\n",
    "import numpy as np\n",
    "\n",
    "# X_train, X_test, y_train, y_test 의 순서에 유의해주세요\n",
    "X_train, X_test, y_train, y_test = train_test_split(X, y, stratify=y, random_state=777)  # 150 개중 *75%는  train.\n",
    "\n",
    "np.shape(X_train), np.shape(y_train), np.shape(X_test), np.shape(y_test)"
   ]
  },
  {
   "attachments": {},
   "cell_type": "markdown",
   "metadata": {},
   "source": [
    "## Modeling"
   ]
  },
  {
   "cell_type": "code",
   "execution_count": 11,
   "metadata": {},
   "outputs": [
    {
     "name": "stdout",
     "output_type": "stream",
     "text": [
      "\n",
      "Epoch 1: saving model to c:/data/model/iris\\01-0.3421.hdf5\n",
      "\n",
      "Epoch 2: saving model to c:/data/model/iris\\02-0.4737.hdf5\n",
      "\n",
      "Epoch 3: saving model to c:/data/model/iris\\03-0.6842.hdf5\n",
      "\n",
      "Epoch 4: saving model to c:/data/model/iris\\04-0.6842.hdf5\n",
      "\n",
      "Epoch 5: saving model to c:/data/model/iris\\05-0.6842.hdf5\n",
      "\n",
      "Epoch 6: saving model to c:/data/model/iris\\06-0.7105.hdf5\n",
      "\n",
      "Epoch 7: saving model to c:/data/model/iris\\07-0.7632.hdf5\n",
      "\n",
      "Epoch 8: saving model to c:/data/model/iris\\08-0.8158.hdf5\n",
      "\n",
      "Epoch 9: saving model to c:/data/model/iris\\09-0.7632.hdf5\n",
      "\n",
      "Epoch 10: saving model to c:/data/model/iris\\10-0.8158.hdf5\n",
      "\n",
      "Epoch 11: saving model to c:/data/model/iris\\11-0.8158.hdf5\n",
      "\n",
      "Epoch 12: saving model to c:/data/model/iris\\12-0.7895.hdf5\n",
      "\n",
      "Epoch 13: saving model to c:/data/model/iris\\13-0.8158.hdf5\n",
      "\n",
      "Epoch 14: saving model to c:/data/model/iris\\14-0.8158.hdf5\n",
      "\n",
      "Epoch 15: saving model to c:/data/model/iris\\15-0.7895.hdf5\n",
      "\n",
      "Epoch 16: saving model to c:/data/model/iris\\16-0.8158.hdf5\n",
      "\n",
      "Epoch 17: saving model to c:/data/model/iris\\17-0.7895.hdf5\n",
      "\n",
      "Epoch 18: saving model to c:/data/model/iris\\18-0.7895.hdf5\n",
      "\n",
      "Epoch 19: saving model to c:/data/model/iris\\19-0.8421.hdf5\n",
      "\n",
      "Epoch 20: saving model to c:/data/model/iris\\20-0.8421.hdf5\n",
      "\n",
      "Epoch 21: saving model to c:/data/model/iris\\21-0.7895.hdf5\n",
      "\n",
      "Epoch 22: saving model to c:/data/model/iris\\22-0.8684.hdf5\n",
      "\n",
      "Epoch 23: saving model to c:/data/model/iris\\23-0.8684.hdf5\n",
      "\n",
      "Epoch 24: saving model to c:/data/model/iris\\24-0.7895.hdf5\n",
      "\n",
      "Epoch 25: saving model to c:/data/model/iris\\25-0.8947.hdf5\n",
      "\n",
      "Epoch 26: saving model to c:/data/model/iris\\26-0.8421.hdf5\n",
      "\n",
      "Epoch 27: saving model to c:/data/model/iris\\27-0.8684.hdf5\n",
      "\n",
      "Epoch 28: saving model to c:/data/model/iris\\28-0.8684.hdf5\n",
      "\n",
      "Epoch 29: saving model to c:/data/model/iris\\29-0.8947.hdf5\n",
      "\n",
      "Epoch 30: saving model to c:/data/model/iris\\30-0.8421.hdf5\n",
      "\n",
      "Epoch 31: saving model to c:/data/model/iris\\31-0.8684.hdf5\n",
      "\n",
      "Epoch 32: saving model to c:/data/model/iris\\32-0.8684.hdf5\n",
      "\n",
      "Epoch 33: saving model to c:/data/model/iris\\33-0.8684.hdf5\n",
      "\n",
      "Epoch 34: saving model to c:/data/model/iris\\34-0.8947.hdf5\n",
      "\n",
      "Epoch 35: saving model to c:/data/model/iris\\35-0.8684.hdf5\n",
      "\n",
      "Epoch 36: saving model to c:/data/model/iris\\36-0.8684.hdf5\n",
      "\n",
      "Epoch 37: saving model to c:/data/model/iris\\37-0.9211.hdf5\n",
      "\n",
      "Epoch 38: saving model to c:/data/model/iris\\38-0.8947.hdf5\n",
      "\n",
      "Epoch 39: saving model to c:/data/model/iris\\39-0.8947.hdf5\n",
      "\n",
      "Epoch 40: saving model to c:/data/model/iris\\40-0.8947.hdf5\n",
      "\n",
      "Epoch 41: saving model to c:/data/model/iris\\41-0.8947.hdf5\n",
      "\n",
      "Epoch 42: saving model to c:/data/model/iris\\42-0.8947.hdf5\n",
      "\n",
      "Epoch 43: saving model to c:/data/model/iris\\43-0.8947.hdf5\n",
      "\n",
      "Epoch 44: saving model to c:/data/model/iris\\44-0.9211.hdf5\n",
      "\n",
      "Epoch 45: saving model to c:/data/model/iris\\45-0.9211.hdf5\n",
      "\n",
      "Epoch 46: saving model to c:/data/model/iris\\46-0.9211.hdf5\n",
      "\n",
      "Epoch 47: saving model to c:/data/model/iris\\47-0.8947.hdf5\n",
      "\n",
      "Epoch 48: saving model to c:/data/model/iris\\48-0.8947.hdf5\n",
      "\n",
      "Epoch 49: saving model to c:/data/model/iris\\49-0.9211.hdf5\n",
      "\n",
      "Epoch 50: saving model to c:/data/model/iris\\50-0.9211.hdf5\n",
      "\n",
      "Epoch 51: saving model to c:/data/model/iris\\51-0.9211.hdf5\n",
      "\n",
      "Epoch 52: saving model to c:/data/model/iris\\52-0.9211.hdf5\n",
      "\n",
      "Epoch 53: saving model to c:/data/model/iris\\53-0.9474.hdf5\n",
      "\n",
      "Epoch 54: saving model to c:/data/model/iris\\54-0.8947.hdf5\n",
      "\n",
      "Epoch 55: saving model to c:/data/model/iris\\55-0.9474.hdf5\n",
      "\n",
      "Epoch 56: saving model to c:/data/model/iris\\56-0.8947.hdf5\n",
      "\n",
      "Epoch 57: saving model to c:/data/model/iris\\57-0.9474.hdf5\n",
      "\n",
      "Epoch 58: saving model to c:/data/model/iris\\58-0.8947.hdf5\n",
      "\n",
      "Epoch 59: saving model to c:/data/model/iris\\59-0.9474.hdf5\n",
      "\n",
      "Epoch 60: saving model to c:/data/model/iris\\60-0.9211.hdf5\n",
      "\n",
      "Epoch 61: saving model to c:/data/model/iris\\61-0.9474.hdf5\n",
      "\n",
      "Epoch 62: saving model to c:/data/model/iris\\62-0.9474.hdf5\n",
      "\n",
      "Epoch 63: saving model to c:/data/model/iris\\63-0.9211.hdf5\n",
      "\n",
      "Epoch 64: saving model to c:/data/model/iris\\64-0.9474.hdf5\n",
      "\n",
      "Epoch 65: saving model to c:/data/model/iris\\65-0.9474.hdf5\n",
      "\n",
      "Epoch 66: saving model to c:/data/model/iris\\66-0.9474.hdf5\n",
      "\n",
      "Epoch 67: saving model to c:/data/model/iris\\67-0.9474.hdf5\n",
      "\n",
      "Epoch 68: saving model to c:/data/model/iris\\68-0.9211.hdf5\n",
      "\n",
      "Epoch 69: saving model to c:/data/model/iris\\69-0.9211.hdf5\n",
      "\n",
      "Epoch 70: saving model to c:/data/model/iris\\70-0.9474.hdf5\n",
      "\n",
      "Epoch 71: saving model to c:/data/model/iris\\71-0.9211.hdf5\n",
      "\n",
      "Epoch 72: saving model to c:/data/model/iris\\72-0.9211.hdf5\n",
      "\n",
      "Epoch 73: saving model to c:/data/model/iris\\73-0.9474.hdf5\n",
      "\n",
      "Epoch 74: saving model to c:/data/model/iris\\74-0.9474.hdf5\n",
      "\n",
      "Epoch 75: saving model to c:/data/model/iris\\75-0.9474.hdf5\n",
      "\n",
      "Epoch 76: saving model to c:/data/model/iris\\76-0.9474.hdf5\n",
      "\n",
      "Epoch 77: saving model to c:/data/model/iris\\77-0.9211.hdf5\n",
      "\n",
      "Epoch 78: saving model to c:/data/model/iris\\78-0.9474.hdf5\n",
      "\n",
      "Epoch 79: saving model to c:/data/model/iris\\79-0.9474.hdf5\n",
      "\n",
      "Epoch 80: saving model to c:/data/model/iris\\80-0.9474.hdf5\n"
     ]
    }
   ],
   "source": [
    "from tensorflow.keras.models import Sequential\n",
    "from tensorflow.keras.layers import Dense\n",
    "\n",
    "# 모델 설정\n",
    "model = Sequential()\n",
    "model.add(Dense(12,  input_dim=4, activation='relu')) # x값이4개 w(4)+b(1)=5개파람 *  12개=>60개\n",
    "model.add(Dense(8,  activation='relu'))  # x값이 12개  w(12)+b(1)=13개파람 * 8개=104개\n",
    "model.add(Dense(3, activation='softmax')) # x값이 8개 w(8)+b(1)=9개파람 * 3개=27개\n",
    "#model.summary()\n",
    "\n",
    "# 모델 컴파일\n",
    "model.compile(loss='categorical_crossentropy', optimizer='adam', metrics=['accuracy'])\n",
    "\n",
    "\n",
    "# 에포크당 w,b를 레이어층에 맞추어서 저장\n",
    "# modelpath는 폴더없으면 생성됨\n",
    "from tensorflow.keras.callbacks import ModelCheckpoint\n",
    "modelpath=\"c:/data/model/iris/{epoch:02d}-{val_accuracy:.4f}.hdf5\"\n",
    "checkpointer = ModelCheckpoint(filepath=modelpath, verbose=1) #verbose기본값이 0임, 1을 지정하지 않으면 결과가 화면에 출력되지 않음\n",
    "\n",
    "\n",
    "# 모델 실행\n",
    "# 전체112개(150개중75%의)의 데이터셋, 배치5 총 (112/5)=> 23회의 배치작업이 이루어짐. 배치23회*에포크80회=총 1840회의 optimizer='adam'작업이 이루어짐\n",
    "# 배치에서는 w,b갱신만하고 총배치가 다끝나는 1에포크에서 생성된 w,b값을  validation_data에 넣어서 확인함\n",
    "history=model.fit(X_train, y_train, \n",
    "                  epochs=80, \n",
    "                  batch_size=5, \n",
    "                  validation_data=(X_test, y_test),\n",
    "                  callbacks=[checkpointer],\n",
    "                  verbose=0)   #verbose는 기본값이 1임,  옵션값을 넣지 않으면 출력물이 화면에 보이고, verbose를 0으로 하면 출력물이 보이지 않음"
   ]
  },
  {
   "attachments": {},
   "cell_type": "markdown",
   "metadata": {},
   "source": [
    "## Model visualizations"
   ]
  },
  {
   "cell_type": "code",
   "execution_count": 12,
   "metadata": {},
   "outputs": [
    {
     "data": {
      "text/html": [
       "<div>\n",
       "<style scoped>\n",
       "    .dataframe tbody tr th:only-of-type {\n",
       "        vertical-align: middle;\n",
       "    }\n",
       "\n",
       "    .dataframe tbody tr th {\n",
       "        vertical-align: top;\n",
       "    }\n",
       "\n",
       "    .dataframe thead th {\n",
       "        text-align: right;\n",
       "    }\n",
       "</style>\n",
       "<table border=\"1\" class=\"dataframe\">\n",
       "  <thead>\n",
       "    <tr style=\"text-align: right;\">\n",
       "      <th></th>\n",
       "      <th>loss</th>\n",
       "      <th>accuracy</th>\n",
       "      <th>val_loss</th>\n",
       "      <th>val_accuracy</th>\n",
       "    </tr>\n",
       "  </thead>\n",
       "  <tbody>\n",
       "    <tr>\n",
       "      <th>0</th>\n",
       "      <td>1.146116</td>\n",
       "      <td>0.330357</td>\n",
       "      <td>1.017393</td>\n",
       "      <td>0.342105</td>\n",
       "    </tr>\n",
       "    <tr>\n",
       "      <th>1</th>\n",
       "      <td>0.991267</td>\n",
       "      <td>0.330357</td>\n",
       "      <td>0.928626</td>\n",
       "      <td>0.473684</td>\n",
       "    </tr>\n",
       "    <tr>\n",
       "      <th>2</th>\n",
       "      <td>0.922193</td>\n",
       "      <td>0.589286</td>\n",
       "      <td>0.877236</td>\n",
       "      <td>0.684211</td>\n",
       "    </tr>\n",
       "    <tr>\n",
       "      <th>3</th>\n",
       "      <td>0.871718</td>\n",
       "      <td>0.625000</td>\n",
       "      <td>0.835007</td>\n",
       "      <td>0.684211</td>\n",
       "    </tr>\n",
       "    <tr>\n",
       "      <th>4</th>\n",
       "      <td>0.829009</td>\n",
       "      <td>0.633929</td>\n",
       "      <td>0.797430</td>\n",
       "      <td>0.684211</td>\n",
       "    </tr>\n",
       "  </tbody>\n",
       "</table>\n",
       "</div>"
      ],
      "text/plain": [
       "       loss  accuracy  val_loss  val_accuracy\n",
       "0  1.146116  0.330357  1.017393      0.342105\n",
       "1  0.991267  0.330357  0.928626      0.473684\n",
       "2  0.922193  0.589286  0.877236      0.684211\n",
       "3  0.871718  0.625000  0.835007      0.684211\n",
       "4  0.829009  0.633929  0.797430      0.684211"
      ]
     },
     "execution_count": 12,
     "metadata": {},
     "output_type": "execute_result"
    }
   ],
   "source": [
    "hist_df=pd.DataFrame(history.history)\n",
    "hist_df.head()"
   ]
  },
  {
   "cell_type": "code",
   "execution_count": 13,
   "metadata": {},
   "outputs": [
    {
     "data": {
      "text/plain": [
       "<matplotlib.legend.Legend at 0x246de086670>"
      ]
     },
     "execution_count": 13,
     "metadata": {},
     "output_type": "execute_result"
    },
    {
     "data": {
      "image/png": "[encoded data removed]",
      "text/plain": [
       "<Figure size 640x480 with 1 Axes>"
      ]
     },
     "metadata": {},
     "output_type": "display_data"
    }
   ],
   "source": [
    "# y_vloss에 테스트셋(여기서는 검증셋)의 오차를 저장합니다.\n",
    "y_vloss=hist_df['val_loss']\n",
    "\n",
    "# y_loss에 학습셋의 오차를 저장합니다.\n",
    "y_loss=hist_df['loss']\n",
    "\n",
    "# x 값을 지정하고 테스트셋(검증셋)의 오차를 빨간색으로, 학습셋의 오차를 파란색으로 표시합니다.\n",
    "plt.plot(hist_df['loss'],'r',label='loss')\n",
    "plt.plot(hist_df['accuracy'],'r',label='acc')\n",
    "plt.plot(hist_df['val_loss'],'--b',label='val_loss')\n",
    "plt.plot(hist_df['val_accuracy'],'--b',label='val_acc')\n",
    "plt.legend()"
   ]
  },
  {
   "attachments": {},
   "cell_type": "markdown",
   "metadata": {},
   "source": [
    "## Accuracy of the Model"
   ]
  },
  {
   "cell_type": "code",
   "execution_count": 14,
   "metadata": {},
   "outputs": [
    {
     "name": "stdout",
     "output_type": "stream",
     "text": [
      "2/2 [==============================] - 0s 4ms/step - loss: 0.2295 - accuracy: 0.9474\n"
     ]
    },
    {
     "data": {
      "text/plain": [
       "[0.22951819002628326, 0.9473684430122375]"
      ]
     },
     "execution_count": 14,
     "metadata": {},
     "output_type": "execute_result"
    }
   ],
   "source": [
    "# model.fit할때 validation_data로 test를 사용했기 때문에 model.fit의 최종과 같은 값이 출력\n",
    "score=model.evaluate(X_test, y_test)   \n",
    "score # 0번은 loss, 1번은 acc"
   ]
  },
  {
   "attachments": {},
   "cell_type": "markdown",
   "metadata": {},
   "source": [
    "## Confirm the Model"
   ]
  },
  {
   "cell_type": "code",
   "execution_count": 15,
   "metadata": {},
   "outputs": [
    {
     "data": {
      "text/plain": [
       "array([False,  True, False])"
      ]
     },
     "execution_count": 15,
     "metadata": {},
     "output_type": "execute_result"
    }
   ],
   "source": [
    "len(X_test)\n",
    "y_test.values[0]"
   ]
  },
  {
   "cell_type": "code",
   "execution_count": 16,
   "metadata": {},
   "outputs": [
    {
     "data": {
      "text/plain": [
       "array([[6.3270922e-03, 9.7528130e-01, 1.8391600e-02],\n",
       "       [1.3767723e-02, 9.3571818e-01, 5.0514087e-02],\n",
       "       [4.3180250e-02, 7.4260610e-01, 2.1421359e-01],\n",
       "       [9.1171876e-02, 1.8994869e-01, 7.1887940e-01],\n",
       "       [9.9940908e-01, 5.7184516e-04, 1.9011435e-05]], dtype=float32)"
      ]
     },
     "execution_count": 16,
     "metadata": {},
     "output_type": "execute_result"
    }
   ],
   "source": [
    "model.predict(X_test)[:5]\n",
    "\n",
    "# array([[9.9818399e-03, 9.5285404e-01, 3.7164021e-02],    가장큰값의 위치는 1번째\n",
    "#        [1.7952520e-03, 9.0466195e-01, 9.3542784e-02],    가장큰값의 위치는 1번째\n",
    "#        [1.1993999e-03, 7.8250211e-01, 2.1629851e-01],    가장큰값의 위치는 1번째\n",
    "#        [3.7234826e-05, 2.5962135e-01, 7.4034137e-01],    가장큰값의 위치는 2번째,\n",
    "#        [9.8781002e-01, 1.2184884e-02, 5.0382359e-06]], dtype=float32) ,    가장큰값의 위치는 0번째"
   ]
  },
  {
   "cell_type": "code",
   "execution_count": 17,
   "metadata": {},
   "outputs": [
    {
     "data": {
      "text/plain": [
       "array([1, 1, 1, 2, 0], dtype=int64)"
      ]
     },
     "execution_count": 17,
     "metadata": {},
     "output_type": "execute_result"
    }
   ],
   "source": [
    "np.argmax(model.predict(X_test),axis=1)[:5]  # 함수이용해서 가장 큰값의 위치를 찾음. axis=1 옵션으로 행단위로 가장 큰값을 찾음"
   ]
  },
  {
   "cell_type": "code",
   "execution_count": 18,
   "metadata": {},
   "outputs": [
    {
     "data": {
      "text/plain": [
       "(15, array([3, 5, 7]), array([6, 9]))"
      ]
     },
     "execution_count": 18,
     "metadata": {},
     "output_type": "execute_result"
    }
   ],
   "source": [
    "# 참고(axis 옵션)\n",
    "a=np.array( [[1,2],\n",
    "             [2,3],\n",
    "             [3,4]])\n",
    "a.sum(), a.sum(axis=1), a.sum(axis=0)"
   ]
  },
  {
   "cell_type": "code",
   "execution_count": 19,
   "metadata": {},
   "outputs": [
    {
     "data": {
      "text/html": [
       "<div>\n",
       "<style scoped>\n",
       "    .dataframe tbody tr th:only-of-type {\n",
       "        vertical-align: middle;\n",
       "    }\n",
       "\n",
       "    .dataframe tbody tr th {\n",
       "        vertical-align: top;\n",
       "    }\n",
       "\n",
       "    .dataframe thead th {\n",
       "        text-align: right;\n",
       "    }\n",
       "</style>\n",
       "<table border=\"1\" class=\"dataframe\">\n",
       "  <thead>\n",
       "    <tr style=\"text-align: right;\">\n",
       "      <th></th>\n",
       "      <th>Iris-setosa</th>\n",
       "      <th>Iris-versicolor</th>\n",
       "      <th>Iris-virginica</th>\n",
       "    </tr>\n",
       "  </thead>\n",
       "  <tbody>\n",
       "    <tr>\n",
       "      <th>71</th>\n",
       "      <td>False</td>\n",
       "      <td>True</td>\n",
       "      <td>False</td>\n",
       "    </tr>\n",
       "    <tr>\n",
       "      <th>86</th>\n",
       "      <td>False</td>\n",
       "      <td>True</td>\n",
       "      <td>False</td>\n",
       "    </tr>\n",
       "    <tr>\n",
       "      <th>90</th>\n",
       "      <td>False</td>\n",
       "      <td>True</td>\n",
       "      <td>False</td>\n",
       "    </tr>\n",
       "    <tr>\n",
       "      <th>83</th>\n",
       "      <td>False</td>\n",
       "      <td>True</td>\n",
       "      <td>False</td>\n",
       "    </tr>\n",
       "    <tr>\n",
       "      <th>6</th>\n",
       "      <td>True</td>\n",
       "      <td>False</td>\n",
       "      <td>False</td>\n",
       "    </tr>\n",
       "  </tbody>\n",
       "</table>\n",
       "</div>"
      ],
      "text/plain": [
       "    Iris-setosa  Iris-versicolor  Iris-virginica\n",
       "71        False             True           False\n",
       "86        False             True           False\n",
       "90        False             True           False\n",
       "83        False             True           False\n",
       "6          True            False           False"
      ]
     },
     "execution_count": 19,
     "metadata": {},
     "output_type": "execute_result"
    }
   ],
   "source": [
    "y_test[:5]"
   ]
  },
  {
   "cell_type": "code",
   "execution_count": 20,
   "metadata": {},
   "outputs": [
    {
     "data": {
      "text/html": [
       "<div>\n",
       "<style scoped>\n",
       "    .dataframe tbody tr th:only-of-type {\n",
       "        vertical-align: middle;\n",
       "    }\n",
       "\n",
       "    .dataframe tbody tr th {\n",
       "        vertical-align: top;\n",
       "    }\n",
       "\n",
       "    .dataframe thead th {\n",
       "        text-align: right;\n",
       "    }\n",
       "</style>\n",
       "<table border=\"1\" class=\"dataframe\">\n",
       "  <thead>\n",
       "    <tr style=\"text-align: right;\">\n",
       "      <th></th>\n",
       "      <th>real</th>\n",
       "      <th>pred</th>\n",
       "      <th>ox</th>\n",
       "    </tr>\n",
       "  </thead>\n",
       "  <tbody>\n",
       "    <tr>\n",
       "      <th>0</th>\n",
       "      <td>1</td>\n",
       "      <td>1</td>\n",
       "      <td>True</td>\n",
       "    </tr>\n",
       "    <tr>\n",
       "      <th>1</th>\n",
       "      <td>1</td>\n",
       "      <td>1</td>\n",
       "      <td>True</td>\n",
       "    </tr>\n",
       "    <tr>\n",
       "      <th>2</th>\n",
       "      <td>1</td>\n",
       "      <td>1</td>\n",
       "      <td>True</td>\n",
       "    </tr>\n",
       "    <tr>\n",
       "      <th>3</th>\n",
       "      <td>1</td>\n",
       "      <td>2</td>\n",
       "      <td>False</td>\n",
       "    </tr>\n",
       "    <tr>\n",
       "      <th>4</th>\n",
       "      <td>0</td>\n",
       "      <td>0</td>\n",
       "      <td>True</td>\n",
       "    </tr>\n",
       "  </tbody>\n",
       "</table>\n",
       "</div>"
      ],
      "text/plain": [
       "   real  pred     ox\n",
       "0     1     1   True\n",
       "1     1     1   True\n",
       "2     1     1   True\n",
       "3     1     2  False\n",
       "4     0     0   True"
      ]
     },
     "execution_count": 20,
     "metadata": {},
     "output_type": "execute_result"
    }
   ],
   "source": [
    "pred_iris=np.argmax(model.predict(X_test),axis=1)\n",
    "real_iris=np.argmax(y_test, axis=1) \n",
    "\n",
    "resultDf=pd.DataFrame({'real':real_iris, 'pred':pred_iris,'ox':real_iris==pred_iris})\n",
    "resultDf[:5]"
   ]
  },
  {
   "attachments": {},
   "cell_type": "markdown",
   "metadata": {},
   "source": [
    "## Confirm the model by 오차분류표"
   ]
  },
  {
   "cell_type": "code",
   "execution_count": 21,
   "metadata": {},
   "outputs": [
    {
     "data": {
      "text/plain": [
       "(array([[6.3270922e-03, 9.7528130e-01, 1.8391600e-02],\n",
       "        [1.3767723e-02, 9.3571818e-01, 5.0514087e-02],\n",
       "        [4.3180250e-02, 7.4260610e-01, 2.1421359e-01],\n",
       "        [9.1171876e-02, 1.8994869e-01, 7.1887940e-01],\n",
       "        [9.9940908e-01, 5.7184516e-04, 1.9011435e-05]], dtype=float32),\n",
       " array([1, 1, 1, 2, 0], dtype=int64),\n",
       " array([1, 1, 1, 1, 0], dtype=int64))"
      ]
     },
     "execution_count": 21,
     "metadata": {},
     "output_type": "execute_result"
    }
   ],
   "source": [
    "test_yhat=model.predict(X_test)\n",
    "\n",
    "\n",
    "# 소프트맥스일때 y값이 원핫인코딩 되어 있다면 아래의 과정1,2가 필요함()\n",
    "predict_y=np.argmax(test_yhat, axis=1) # [과정1]\n",
    "real_y=np.argmax(y_test, axis=1)       # [과정2]\n",
    "\n",
    "\n",
    "## 혼돈행렬(onfusion matrix,오차행렬표)와 분류리포트(classification_report) 에서는\n",
    "### real_y값하고 predict_y값하고 비교하면서 같으면, 다르면 으로 작업이 자동으로 이루어짐\n",
    "test_yhat[:5], predict_y[:5], real_y[:5]"
   ]
  },
  {
   "cell_type": "code",
   "execution_count": 22,
   "metadata": {},
   "outputs": [
    {
     "data": {
      "text/plain": [
       "array([[13,  0,  0],\n",
       "       [ 0, 11,  2],\n",
       "       [ 0,  0, 12]], dtype=int64)"
      ]
     },
     "execution_count": 22,
     "metadata": {},
     "output_type": "execute_result"
    }
   ],
   "source": [
    "# 오차행렬표임 (교재 388쪽의 하단내용)\n",
    "import pandas as pd\n",
    "from sklearn.metrics import confusion_matrix\n",
    "conMatrix=confusion_matrix(real_y, predict_y)\n",
    "conMatrix"
   ]
  },
  {
   "cell_type": "code",
   "execution_count": 23,
   "metadata": {},
   "outputs": [
    {
     "data": {
      "text/html": [
       "<div>\n",
       "<style scoped>\n",
       "    .dataframe tbody tr th:only-of-type {\n",
       "        vertical-align: middle;\n",
       "    }\n",
       "\n",
       "    .dataframe tbody tr th {\n",
       "        vertical-align: top;\n",
       "    }\n",
       "\n",
       "    .dataframe thead th {\n",
       "        text-align: right;\n",
       "    }\n",
       "</style>\n",
       "<table border=\"1\" class=\"dataframe\">\n",
       "  <thead>\n",
       "    <tr style=\"text-align: right;\">\n",
       "      <th></th>\n",
       "      <th>0</th>\n",
       "      <th>1</th>\n",
       "      <th>2</th>\n",
       "    </tr>\n",
       "  </thead>\n",
       "  <tbody>\n",
       "    <tr>\n",
       "      <th>0</th>\n",
       "      <td>13</td>\n",
       "      <td>0</td>\n",
       "      <td>0</td>\n",
       "    </tr>\n",
       "    <tr>\n",
       "      <th>1</th>\n",
       "      <td>0</td>\n",
       "      <td>11</td>\n",
       "      <td>2</td>\n",
       "    </tr>\n",
       "    <tr>\n",
       "      <th>2</th>\n",
       "      <td>0</td>\n",
       "      <td>0</td>\n",
       "      <td>12</td>\n",
       "    </tr>\n",
       "  </tbody>\n",
       "</table>\n",
       "</div>"
      ],
      "text/plain": [
       "    0   1   2\n",
       "0  13   0   0\n",
       "1   0  11   2\n",
       "2   0   0  12"
      ]
     },
     "execution_count": 23,
     "metadata": {},
     "output_type": "execute_result"
    }
   ],
   "source": [
    "pd.DataFrame(conMatrix)"
   ]
  },
  {
   "cell_type": "code",
   "execution_count": 24,
   "metadata": {},
   "outputs": [
    {
     "data": {
      "text/html": [
       "<div>\n",
       "<style scoped>\n",
       "    .dataframe tbody tr th:only-of-type {\n",
       "        vertical-align: middle;\n",
       "    }\n",
       "\n",
       "    .dataframe tbody tr th {\n",
       "        vertical-align: top;\n",
       "    }\n",
       "\n",
       "    .dataframe thead th {\n",
       "        text-align: right;\n",
       "    }\n",
       "</style>\n",
       "<table border=\"1\" class=\"dataframe\">\n",
       "  <thead>\n",
       "    <tr style=\"text-align: right;\">\n",
       "      <th></th>\n",
       "      <th>pred_0</th>\n",
       "      <th>pred_1</th>\n",
       "      <th>pred_2</th>\n",
       "    </tr>\n",
       "  </thead>\n",
       "  <tbody>\n",
       "    <tr>\n",
       "      <th>true_0</th>\n",
       "      <td>13</td>\n",
       "      <td>0</td>\n",
       "      <td>0</td>\n",
       "    </tr>\n",
       "    <tr>\n",
       "      <th>true_1</th>\n",
       "      <td>0</td>\n",
       "      <td>11</td>\n",
       "      <td>2</td>\n",
       "    </tr>\n",
       "    <tr>\n",
       "      <th>true_2</th>\n",
       "      <td>0</td>\n",
       "      <td>0</td>\n",
       "      <td>12</td>\n",
       "    </tr>\n",
       "  </tbody>\n",
       "</table>\n",
       "</div>"
      ],
      "text/plain": [
       "        pred_0  pred_1  pred_2\n",
       "true_0      13       0       0\n",
       "true_1       0      11       2\n",
       "true_2       0       0      12"
      ]
     },
     "execution_count": 24,
     "metadata": {},
     "output_type": "execute_result"
    }
   ],
   "source": [
    "# 오차행렬표를 데이터프레임으로 변환 (rywo 388쪽 가장하단)\n",
    "# 오차행렬표를 데이터프레임으로 작업하지 않고, 차트로 보여주는 모듈도 있음.\n",
    "cnt=len(conMatrix)\n",
    "pd.DataFrame(conMatrix, \n",
    "            index=['true_%d' % i for i in range(cnt)],\n",
    "            columns=['pred_%d' % i for i in range(cnt)] )"
   ]
  },
  {
   "cell_type": "code",
   "execution_count": 25,
   "metadata": {},
   "outputs": [
    {
     "data": {
      "text/plain": [
       "Text(58.222222222222214, 0.5, 'true label')"
      ]
     },
     "execution_count": 25,
     "metadata": {},
     "output_type": "execute_result"
    },
    {
     "data": {
      "image/png": "[encoded data removed]",
      "text/plain": [
       "<Figure size 700x700 with 2 Axes>"
      ]
     },
     "metadata": {},
     "output_type": "display_data"
    }
   ],
   "source": [
    "# 오차행렬표를 차트로 보여주는 작업_혼돈행렬\n",
    "import seaborn as sns\n",
    "plt.figure(figsize=(7,7))\n",
    "sns.heatmap(conMatrix,annot=True, fmt='d',cmap='Blues')\n",
    "plt.xlabel('predicated label')\n",
    "plt.ylabel('true label')"
   ]
  },
  {
   "cell_type": "code",
   "execution_count": 26,
   "metadata": {},
   "outputs": [
    {
     "name": "stdout",
     "output_type": "stream",
     "text": [
      "              precision    recall  f1-score   support\n",
      "\n",
      "           0       1.00      1.00      1.00        13\n",
      "           1       1.00      0.85      0.92        13\n",
      "           2       0.86      1.00      0.92        12\n",
      "\n",
      "    accuracy                           0.95        38\n",
      "   macro avg       0.95      0.95      0.95        38\n",
      "weighted avg       0.95      0.95      0.95        38\n",
      "\n"
     ]
    }
   ],
   "source": [
    "from sklearn.metrics import classification_report\n",
    "print(classification_report(real_y, predict_y))"
   ]
  }
 ],
 "metadata": {
  "kernelspec": {
   "display_name": "gpu",
   "language": "python",
   "name": "python3"
  },
  "language_info": {
   "codemirror_mode": {
    "name": "ipython",
    "version": 3
   },
   "file_extension": ".py",
   "mimetype": "text/x-python",
   "name": "python",
   "nbconvert_exporter": "python",
   "pygments_lexer": "ipython3",
   "version": "3.9.16"
  },
  "orig_nbformat": 4
 },
 "nbformat": 4,
 "nbformat_minor": 2
}
