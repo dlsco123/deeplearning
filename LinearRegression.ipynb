{
 "cells": [
  {
   "cell_type": "code",
   "execution_count": 2,
   "metadata": {},
   "outputs": [],
   "source": [
    "import numpy as np\n",
    "import tensorflow as tf\n",
    "\n",
    "from tensorflow import keras            \n",
    "from tensorflow.keras import layers    # layers(Dnese)"
   ]
  },
  {
   "cell_type": "code",
   "execution_count": 3,
   "metadata": {},
   "outputs": [
    {
     "data": {
      "text/plain": [
       "'\\ny=f(x)\\nx1=input\\nx2=hidden\\nx3=hd2\\nx4=clear_output\\nx2(x1)\\nx3(x1)\\n'"
      ]
     },
     "execution_count": 3,
     "metadata": {},
     "output_type": "execute_result"
    }
   ],
   "source": [
    "#함수처리구조\n",
    "\"\"\"\n",
    "y=f(x)\n",
    "x1=input\n",
    "x2=hidden\n",
    "x3=hd2\n",
    "x4=clear_output\n",
    "x2(x1)\n",
    "x3(x1)\n",
    "\"\"\""
   ]
  },
  {
   "cell_type": "code",
   "execution_count": 3,
   "metadata": {},
   "outputs": [
    {
     "data": {
      "text/plain": [
       "Text(0.5, 1.0, 'acc')"
      ]
     },
     "execution_count": 3,
     "metadata": {},
     "output_type": "execute_result"
    },
    {
     "data": {
      "image/png": "[encoded data removed]",
      "text/plain": [
       "<Figure size 1000x300 with 2 Axes>"
      ]
     },
     "metadata": {},
     "output_type": "display_data"
    }
   ],
   "source": [
    "x = np.array([1,1,3,4,5,6])\n",
    "# x = np.array([[1,2],[3,4],[5,6]])\n",
    "y = np.array([10,20,30,40,50,60])\n",
    "\n",
    "tf.random.set_seed(2) # weight값 고정을 위해! seed설정 안하면 실행시 w와 b값이 매번 변함.\n",
    "\n",
    "input_layer = tf.keras.layers.InputLayer(input_shape=(1,))\n",
    "# input_layer = tf.keras.layers.InputLayer(input_shape=(2,))\n",
    "output_layer = tf.keras.layers.Dense(1)         # activation없으면 wx+b만 동작(linear regression)\n",
    "# output_layer = layers.Dense(1) -> from ~~ 선언하면 이렇게 가능\n",
    "\n",
    "# 순차처리 구조 (함수처리 구조X)\n",
    "model = keras.Sequential([\n",
    "    input_layer,\n",
    "    output_layer\n",
    "])\n",
    "\n",
    "# model.fit할 때 오차역전파하는 방법론(optimizer)\n",
    "# model.fit할 때, 구축된 모델에서 계산된 값을 y예측 값을 실제 y값과 비교 공식(오차함수)\n",
    "# model.fit할 때, 화면에 출력될 사항(metrics) 선택\n",
    "# model.compile(loss='mse', metrics=['acc'])\n",
    "model.compile(loss='mse', metrics=['acc'])\n",
    "\n",
    "hist=model.fit(x,y,epochs=10, verbose=0) #verbose=0설정 시 화면에 epoch 출력 X\n",
    "list(hist.history)\n",
    "# hist.history['loss'],hist.history['acc']\n",
    "\n",
    "\n",
    "import matplotlib.pyplot as plt\n",
    "plt.figure(figsize=(10,3))\n",
    "plt.subplot(1,2,1)\n",
    "plt.plot(hist.history['loss'], label = 'loss')\n",
    "plt.title('loss')\n",
    "\n",
    "plt.subplot(1,2,2)\n",
    "plt.plot(hist.history['acc'], 'r', label = 'val_accuracy')\n",
    "plt.title('acc')\n",
    "# plt.legend(loc='upper right')\n",
    "# model.summary()\n",
    "# model.get_weights()"
   ]
  },
  {
   "cell_type": "code",
   "execution_count": 70,
   "metadata": {},
   "outputs": [
    {
     "name": "stdout",
     "output_type": "stream",
     "text": [
      "WARNING:tensorflow:5 out of the last 6 calls to <function Model.make_predict_function.<locals>.predict_function at 0x000002D31EDAE4C0> triggered tf.function retracing. Tracing is expensive and the excessive number of tracings could be due to (1) creating @tf.function repeatedly in a loop, (2) passing tensors with different shapes, (3) passing Python objects instead of tensors. For (1), please define your @tf.function outside of the loop. For (2), @tf.function has experimental_relax_shapes=True option that relaxes argument shapes that can avoid unnecessary retracing. For (3), please refer to https://www.tensorflow.org/guide/function#controlling_retracing and https://www.tensorflow.org/api_docs/python/tf/function for  more details.\n"
     ]
    },
    {
     "data": {
      "text/plain": [
       "array([[-1.1885118],\n",
       "       [-1.1885118],\n",
       "       [-3.6001892],\n",
       "       [-4.806028 ],\n",
       "       [-6.0118666],\n",
       "       [-7.2177052]], dtype=float32)"
      ]
     },
     "execution_count": 70,
     "metadata": {},
     "output_type": "execute_result"
    }
   ],
   "source": [
    "model.predict(x)"
   ]
  },
  {
   "cell_type": "code",
   "execution_count": 33,
   "metadata": {},
   "outputs": [
    {
     "data": {
      "text/plain": [
       "[array([[-1.1640885]], dtype=float32), array([0.05907613], dtype=float32)]"
      ]
     },
     "execution_count": 33,
     "metadata": {},
     "output_type": "execute_result"
    }
   ],
   "source": [
    "# model.summary()\n",
    "model.get_weights()"
   ]
  },
  {
   "cell_type": "code",
   "execution_count": 75,
   "metadata": {},
   "outputs": [
    {
     "data": {
      "text/plain": [
       "[array([[ 0.08334005, -0.29660565,  0.17884266, -0.56124383]],\n",
       "       dtype=float32),\n",
       " array([0., 0., 0., 0.], dtype=float32),\n",
       " array([[-0.32336175, -0.66899645,  0.27413416],\n",
       "        [-0.36288744, -0.3022557 , -0.68477273],\n",
       "        [ 0.38106263,  0.40476227, -0.20340782],\n",
       "        [ 0.56833684, -0.0420264 ,  0.01816851]], dtype=float32),\n",
       " array([0., 0., 0.], dtype=float32),\n",
       " array([[ 0.2388494],\n",
       "        [-0.482212 ],\n",
       "        [ 1.2190663]], dtype=float32),\n",
       " array([0.], dtype=float32)]"
      ]
     },
     "execution_count": 75,
     "metadata": {},
     "output_type": "execute_result"
    }
   ],
   "source": [
    "x=np.array([1,2,3,4,5,6])\n",
    "y=np.array([10,98,8,2,3,4])\n",
    "\n",
    "# w값 바꾸지 않기 위해 사용함,검증용이며 실제에서는 seed 하지 않음.\n",
    "tf.random.set_seed(1234)  \n",
    "\n",
    "input_layer = tf.keras.layers.InputLayer(input_shape=(1,))\n",
    "hidden_layer1 = tf.keras.layers.Dense(units=4, activation='relu')\n",
    "hidden_layer2 = tf.keras.layers.Dense(units=3, activation='relu')\n",
    "output_layer= tf.keras.layers.Dense(units=1)  \n",
    "# activation이 없으면 활성화함수 wx+b가 되어있는 것임.\n",
    "\n",
    "model = keras.Sequential([\n",
    "    input_layer,\n",
    "    hidden_layer1,\n",
    "    hidden_layer2,\n",
    "    output_layer\n",
    "    ])\n",
    "\n",
    "\n",
    "model.get_weights()"
   ]
  },
  {
   "cell_type": "code",
   "execution_count": 76,
   "metadata": {},
   "outputs": [
    {
     "name": "stdout",
     "output_type": "stream",
     "text": [
      "Model: \"sequential_46\"\n",
      "_________________________________________________________________\n",
      " Layer (type)                Output Shape              Param #   \n",
      "=================================================================\n",
      " dense_49 (Dense)            (None, 4)                 8         \n",
      "                                                                 \n",
      " dense_50 (Dense)            (None, 3)                 15        \n",
      "                                                                 \n",
      " dense_51 (Dense)            (None, 1)                 4         \n",
      "                                                                 \n",
      "=================================================================\n",
      "Total params: 27\n",
      "Trainable params: 27\n",
      "Non-trainable params: 0\n",
      "_________________________________________________________________\n"
     ]
    }
   ],
   "source": [
    "model.summary()"
   ]
  },
  {
   "cell_type": "code",
   "execution_count": 4,
   "metadata": {},
   "outputs": [
    {
     "data": {
      "text/plain": [
       "[1901.4825439453125,\n",
       " 1900.1837158203125,\n",
       " 1899.2425537109375,\n",
       " 1898.4542236328125,\n",
       " 1897.7545166015625,\n",
       " 1897.1136474609375,\n",
       " 1896.5150146484375,\n",
       " 1895.947265625,\n",
       " 1895.4041748046875,\n",
       " 1894.8804931640625]"
      ]
     },
     "execution_count": 4,
     "metadata": {},
     "output_type": "execute_result"
    }
   ],
   "source": [
    "hist.history['loss']"
   ]
  },
  {
   "cell_type": "code",
   "execution_count": 5,
   "metadata": {},
   "outputs": [
    {
     "data": {
      "text/plain": [
       "array([[-1.1885118],\n",
       "       [-1.1885118],\n",
       "       [-3.6001892],\n",
       "       [-4.806028 ],\n",
       "       [-6.0118666],\n",
       "       [-7.2177052]], dtype=float32)"
      ]
     },
     "execution_count": 5,
     "metadata": {},
     "output_type": "execute_result"
    }
   ],
   "source": [
    "model.predict(x)"
   ]
  },
  {
   "cell_type": "code",
   "execution_count": 6,
   "metadata": {},
   "outputs": [],
   "source": [
    "import numpy as np\n",
    "import tensorflow as tf\n",
    "from tensorflow import keras\n",
    "from tensorflow.keras import layers\n",
    "\n",
    "x=np.array([1,2,3,4,5,6])\n",
    "y=np.array([10,98,8,2,3,4])\n",
    "\n",
    "input_layer = tf.keras.layers.InputLayer(input_shape=(1,))\n",
    "hidden_layer1 = tf.keras.layers.Dense(units=4, activation='relu')\n",
    "hidden_layer2 = tf.keras.layers.Dense(units=2, activation='relu')\n",
    "output_layer= tf.keras.layers.Dense(units=1)  \n",
    "# activation이 없으면 활성화함수 wx+b가 되어있는 것임.\n",
    "\n",
    "model = keras.Sequential([\n",
    "    input_layer,\n",
    "    hidden_layer1,\n",
    "    hidden_layer2,\n",
    "    output_layer\n",
    "    ])\n"
   ]
  },
  {
   "cell_type": "code",
   "execution_count": 7,
   "metadata": {},
   "outputs": [
    {
     "name": "stdout",
     "output_type": "stream",
     "text": [
      "1/1 [==============================] - 0s 333ms/step - loss: 1756.2018 - accuracy: 0.0000e+00\n",
      "<keras.callbacks.History object at 0x0000025C41A281C0>\n",
      "[[-1.1035814]\n",
      " [-2.2178755]\n",
      " [-3.3321695]\n",
      " [-4.4464636]\n",
      " [-5.5607576]\n",
      " [-6.6750517]]\n",
      "1/1 [==============================] - 0s 80ms/step - loss: 1754.0215 - accuracy: 0.0000e+00\n",
      "[1754.021484375, 0.0]\n"
     ]
    }
   ],
   "source": [
    "input_layer = tf.keras.layers.InputLayer(input_shape=(1,))\n",
    "hidden_layer1 = tf.keras.layers.Dense(units=4, activation='relu')\n",
    "hidden_layer2 = tf.keras.layers.Dense(units=2, activation='relu')\n",
    "output_layer= tf.keras.layers.Dense(units=1)  \n",
    "# activation이 없으면 활성화함수 wx+b가 되어있는 것임.\n",
    "model = keras.Sequential([\n",
    "    input_layer,\n",
    "    hidden_layer1,\n",
    "    hidden_layer2,\n",
    "    output_layer\n",
    "    ])\n",
    "\n",
    "model.compile(#optimizer='adam',\n",
    "                loss='mse',\n",
    "                metrics=['accuracy'])\n",
    "print(model.fit(x, y))\n",
    "print(model.predict(x))\n",
    "print(model.evaluate(x,y))\n",
    "\n"
   ]
  },
  {
   "cell_type": "code",
   "execution_count": 8,
   "metadata": {},
   "outputs": [
    {
     "data": {
      "text/plain": [
       "[array([[-0.59297365,  1.0207099 ,  0.60531473, -0.40027   ]],\n",
       "       dtype=float32),\n",
       " array([ 0.        , -0.00316228, -0.00316228,  0.        ], dtype=float32),\n",
       " array([[ 0.9677267 , -0.84174013],\n",
       "        [ 0.68123066, -0.25919557],\n",
       "        [ 0.64391005,  0.1976943 ],\n",
       "        [ 0.58078647, -0.33199525]], dtype=float32),\n",
       " array([-0.00316228,  0.        ], dtype=float32),\n",
       " array([[-1.0268979],\n",
       "        [ 1.2724973]], dtype=float32),\n",
       " array([0.00316228], dtype=float32)]"
      ]
     },
     "execution_count": 8,
     "metadata": {},
     "output_type": "execute_result"
    }
   ],
   "source": [
    "model.get_weights()"
   ]
  },
  {
   "cell_type": "code",
   "execution_count": 9,
   "metadata": {},
   "outputs": [
    {
     "data": {
      "text/plain": [
       "<tf.Tensor: shape=(6, 4), dtype=float32, numpy=\n",
       "array([[0.        , 1.0175476 , 0.60215247, 0.        ],\n",
       "       [0.        , 2.0382574 , 1.2074672 , 0.        ],\n",
       "       [0.        , 3.058967  , 1.8127819 , 0.        ],\n",
       "       [0.        , 4.079677  , 2.4180965 , 0.        ],\n",
       "       [0.        , 5.100387  , 3.0234113 , 0.        ],\n",
       "       [0.        , 6.1210966 , 3.628726  , 0.        ]], dtype=float32)>"
      ]
     },
     "execution_count": 9,
     "metadata": {},
     "output_type": "execute_result"
    }
   ],
   "source": [
    "intermediate_layer_model=tf.keras.Model(inputs=model.input, \n",
    "                                        outputs=model.layers[0].output)\n",
    "intermediate_layer_model(x)"
   ]
  },
  {
   "cell_type": "code",
   "execution_count": 10,
   "metadata": {},
   "outputs": [
    {
     "data": {
      "text/plain": [
       "[array([[-0.59297365,  1.0207099 ,  0.60531473, -0.40027   ]],\n",
       "       dtype=float32),\n",
       " array([ 0.        , -0.00316228, -0.00316228,  0.        ], dtype=float32),\n",
       " array([[ 0.9677267 , -0.84174013],\n",
       "        [ 0.68123066, -0.25919557],\n",
       "        [ 0.64391005,  0.1976943 ],\n",
       "        [ 0.58078647, -0.33199525]], dtype=float32),\n",
       " array([-0.00316228,  0.        ], dtype=float32),\n",
       " array([[-1.0268979],\n",
       "        [ 1.2724973]], dtype=float32),\n",
       " array([0.00316228], dtype=float32)]"
      ]
     },
     "execution_count": 10,
     "metadata": {},
     "output_type": "execute_result"
    }
   ],
   "source": [
    "model.get_weights()"
   ]
  },
  {
   "cell_type": "code",
   "execution_count": 11,
   "metadata": {},
   "outputs": [
    {
     "data": {
      "text/plain": [
       "array([24, 19, 35, 41])"
      ]
     },
     "execution_count": 11,
     "metadata": {},
     "output_type": "execute_result"
    }
   ],
   "source": [
    "x=np.array([[1,2,3],\n",
    "             [1,2,2],\n",
    "             [2,3,4],\n",
    "             [3,4,4]])\n",
    "w=np.array( [[4,6,3,4,5],\n",
    "             [2,2,3,4,5],\n",
    "             [5,2,3,4,5] ])\n",
    "b=np.array([1,3,4,5,3])\n",
    "\n",
    "np.dot(x,w[:,0])+b[0]\n",
    "\n",
    "     "
   ]
  },
  {
   "cell_type": "code",
   "execution_count": 12,
   "metadata": {},
   "outputs": [
    {
     "data": {
      "text/html": [
       "<div>\n",
       "<style scoped>\n",
       "    .dataframe tbody tr th:only-of-type {\n",
       "        vertical-align: middle;\n",
       "    }\n",
       "\n",
       "    .dataframe tbody tr th {\n",
       "        vertical-align: top;\n",
       "    }\n",
       "\n",
       "    .dataframe thead th {\n",
       "        text-align: right;\n",
       "    }\n",
       "</style>\n",
       "<table border=\"1\" class=\"dataframe\">\n",
       "  <thead>\n",
       "    <tr style=\"text-align: right;\">\n",
       "      <th></th>\n",
       "      <th>나이</th>\n",
       "      <th>성별</th>\n",
       "      <th>성적</th>\n",
       "    </tr>\n",
       "  </thead>\n",
       "  <tbody>\n",
       "    <tr>\n",
       "      <th>0</th>\n",
       "      <td>20</td>\n",
       "      <td>1</td>\n",
       "      <td>2000</td>\n",
       "    </tr>\n",
       "    <tr>\n",
       "      <th>1</th>\n",
       "      <td>30</td>\n",
       "      <td>1</td>\n",
       "      <td>100</td>\n",
       "    </tr>\n",
       "    <tr>\n",
       "      <th>2</th>\n",
       "      <td>40</td>\n",
       "      <td>0</td>\n",
       "      <td>70</td>\n",
       "    </tr>\n",
       "    <tr>\n",
       "      <th>3</th>\n",
       "      <td>57</td>\n",
       "      <td>1</td>\n",
       "      <td>10</td>\n",
       "    </tr>\n",
       "    <tr>\n",
       "      <th>4</th>\n",
       "      <td>10</td>\n",
       "      <td>0</td>\n",
       "      <td>20</td>\n",
       "    </tr>\n",
       "    <tr>\n",
       "      <th>5</th>\n",
       "      <td>25</td>\n",
       "      <td>10</td>\n",
       "      <td>20</td>\n",
       "    </tr>\n",
       "  </tbody>\n",
       "</table>\n",
       "</div>"
      ],
      "text/plain": [
       "   나이  성별    성적\n",
       "0  20   1  2000\n",
       "1  30   1   100\n",
       "2  40   0    70\n",
       "3  57   1    10\n",
       "4  10   0    20\n",
       "5  25  10    20"
      ]
     },
     "metadata": {},
     "output_type": "display_data"
    },
    {
     "data": {
      "text/plain": [
       "numpy.ndarray"
      ]
     },
     "execution_count": 12,
     "metadata": {},
     "output_type": "execute_result"
    }
   ],
   "source": [
    "나이=[20,30,40,57,10,25]\n",
    "성별=[1,1,0,1,0,10]\n",
    "성적=[2000,100,70,10,20,20]\n",
    "\n",
    "import pandas as pd\n",
    "df=pd.DataFrame({'나이':나이,'성별':성별, '성적':성적})\n",
    "display(df)\n",
    "x=df[['나이','성별']].values\n",
    "y=df['성적'].values\n",
    "\n",
    "type(x)"
   ]
  },
  {
   "cell_type": "code",
   "execution_count": 13,
   "metadata": {},
   "outputs": [
    {
     "name": "stdout",
     "output_type": "stream",
     "text": [
      "(2, 1)\n"
     ]
    },
    {
     "data": {
      "text/plain": [
       "array([[25],\n",
       "       [35],\n",
       "       [40],\n",
       "       [62],\n",
       "       [10],\n",
       "       [75]], dtype=int64)"
      ]
     },
     "execution_count": 13,
     "metadata": {},
     "output_type": "execute_result"
    }
   ],
   "source": [
    "# Dense(1, input_shape=(2,)) 하고 get_weights한다면\n",
    "\n",
    "w=[ [1],   #나이값w\n",
    "    [5]]   #성별값w\n",
    "b=[0]\n",
    "\n",
    "\n",
    "print(np.shape(w))\n",
    "\n",
    "np.dot(x,w)+b\n"
   ]
  },
  {
   "cell_type": "code",
   "execution_count": 14,
   "metadata": {},
   "outputs": [
    {
     "name": "stdout",
     "output_type": "stream",
     "text": [
      "(2, 3)\n",
      "----hidden---\n",
      "[[ 25  45  70]\n",
      " [ 35  65 100]\n",
      " [ 40  81 122]\n",
      " [ 62 119 181]\n",
      " [ 10  21  32]\n",
      " [ 75  91 157]]\n",
      "---output\n"
     ]
    },
    {
     "data": {
      "text/plain": [
       "array([[ 397],\n",
       "       [ 567],\n",
       "       [ 691],\n",
       "       [1026],\n",
       "       [ 181],\n",
       "       [ 896]], dtype=int64)"
      ]
     },
     "execution_count": 14,
     "metadata": {},
     "output_type": "execute_result"
    }
   ],
   "source": [
    "# Dense(3, input_shape=(2,))\n",
    "\n",
    "# 최종출력물은   (6*2,  2*3) => 6*3 최종\n",
    "w=[ [1,2,3],   #나이값w\n",
    "    [5,4,8]]   #성별값w\n",
    "b=[0,1,2]\n",
    "print(np.shape(w))\n",
    "\n",
    "hidden=np.dot(x,w)+b   # 6*3  ,  3*?\n",
    "print('----hidden---')\n",
    "print(hidden)\n",
    "\n",
    "print('---output')\n",
    "#  Dense(1,)\n",
    "w=[[2],\n",
    "   [3],\n",
    "   [3]]\n",
    "b=[2]\n",
    "\n",
    "output=np.dot(hidden, w)+b\n",
    "\n",
    "output\n",
    "\n"
   ]
  },
  {
   "cell_type": "code",
   "execution_count": 15,
   "metadata": {},
   "outputs": [
    {
     "name": "stdout",
     "output_type": "stream",
     "text": [
      "[[ 397]\n",
      " [ 567]\n",
      " [ 691]\n",
      " [1026]\n",
      " [ 181]\n",
      " [ 896]] [2000  100   70   10   20   20]\n"
     ]
    },
    {
     "data": {
      "text/plain": [
       "257.6666666666667"
      ]
     },
     "execution_count": 15,
     "metadata": {},
     "output_type": "execute_result"
    }
   ],
   "source": [
    "# output자료하고 실제y값학 비교 (오차계산)\n",
    "print(output, y)\n",
    "\n",
    "mse=np.mean((output-np.reshape(y,(-1,1)))^2)\n",
    "mse"
   ]
  },
  {
   "cell_type": "code",
   "execution_count": 16,
   "metadata": {},
   "outputs": [
    {
     "data": {
      "text/plain": [
       "[<matplotlib.lines.Line2D at 0x25ce18282e0>]"
      ]
     },
     "execution_count": 16,
     "metadata": {},
     "output_type": "execute_result"
    },
    {
     "data": {
      "image/png": "[encoded data removed]",
      "text/plain": [
       "<Figure size 300x300 with 1 Axes>"
      ]
     },
     "metadata": {},
     "output_type": "display_data"
    }
   ],
   "source": [
    "plt.figure(figsize=(3,3))\n",
    "plt.plot(성적, 'ro')\n",
    "plt.plot(output)"
   ]
  }
 ],
 "metadata": {
  "kernelspec": {
   "display_name": "gpu",
   "language": "python",
   "name": "python3"
  },
  "language_info": {
   "codemirror_mode": {
    "name": "ipython",
    "version": 3
   },
   "file_extension": ".py",
   "mimetype": "text/x-python",
   "name": "python",
   "nbconvert_exporter": "python",
   "pygments_lexer": "ipython3",
   "version": "3.9.16"
  },
  "orig_nbformat": 4
 },
 "nbformat": 4,
 "nbformat_minor": 2
}
