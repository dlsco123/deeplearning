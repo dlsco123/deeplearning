{
 "cells": [
  {
   "cell_type": "code",
   "execution_count": 2,
   "metadata": {},
   "outputs": [],
   "source": [
    "import numpy as np\n",
    "import tensorflow as tf\n",
    "\n",
    "from tensorflow import keras            \n",
    "from tensorflow.keras import layers    # layers(Dnese)"
   ]
  },
  {
   "cell_type": "code",
   "execution_count": 3,
   "metadata": {},
   "outputs": [
    {
     "data": {
      "text/plain": [
       "'\\ny=f(x)\\nx1=input\\nx2=hidden\\nx3=hd2\\nx4=clear_output\\nx2(x1)\\nx3(x1)\\n'"
      ]
     },
     "execution_count": 3,
     "metadata": {},
     "output_type": "execute_result"
    }
   ],
   "source": [
    "#함수처리구조\n",
    "\"\"\"\n",
    "y=f(x)\n",
    "x1=input\n",
    "x2=hidden\n",
    "x3=hd2\n",
    "x4=clear_output\n",
    "x2(x1)\n",
    "x3(x1)\n",
    "\"\"\""
   ]
  },
  {
   "cell_type": "code",
   "execution_count": 71,
   "metadata": {},
   "outputs": [
    {
     "data": {
      "text/plain": [
       "<matplotlib.legend.Legend at 0x2d31cfd7ee0>"
      ]
     },
     "execution_count": 71,
     "metadata": {},
     "output_type": "execute_result"
    },
    {
     "data": {
      "image/png": "[encoded data removed]",
      "text/plain": [
       "<Figure size 1000x300 with 2 Axes>"
      ]
     },
     "metadata": {},
     "output_type": "display_data"
    }
   ],
   "source": [
    "x = np.array([1,1,3,4,5,6])\n",
    "# x = np.array([[1,2],[3,4],[5,6]])\n",
    "y = np.array([10,20,30,40,50,60])\n",
    "\n",
    "tf.random.set_seed(2) # weight값 고정을 위해! seed설정 안하면 실행시 w와 b값이 매번 변함.\n",
    "\n",
    "input_layer = tf.keras.layers.InputLayer(input_shape=(1,))\n",
    "# input_layer = tf.keras.layers.InputLayer(input_shape=(2,))\n",
    "output_layer = tf.keras.layers.Dense(1)         # activation없으면 wx+b만 동작(linear regression)\n",
    "# output_layer = layers.Dense(1) -> from ~~ 선언하면 이렇게 가능\n",
    "\n",
    "# 순차처리 구조 (함수처리 구조X)\n",
    "model = keras.Sequential([\n",
    "    input_layer,\n",
    "    output_layer\n",
    "])\n",
    "\n",
    "# model.fit할 때 오차역전파하는 방법론(optimizer)\n",
    "# model.fit할 때, 구축된 모델에서 계산된 값을 y예측 값을 실제 y값과 비교 공식(오차함수)\n",
    "# model.fit할 때, 화면에 출력될 사항(metrics) 선택\n",
    "# model.compile(loss='mse', metrics=['acc'])\n",
    "model.compile(loss='mse', metrics=['acc'])\n",
    "\n",
    "hist=model.fit(x,y,epochs=10, verbose=0) #verbose=0설정 시 화면에 epoch 출력 X\n",
    "# list(hist.history)\n",
    "hist.history['loss'],hist.history['acc']\n",
    "\n",
    "\n",
    "import matplotlib.pyplot as plt\n",
    "plt.figure(figsize=(10,3))\n",
    "plt.subplot(1,2,1)\n",
    "plt.plot(hist.history['loss'], label = 'loss')\n",
    "\n",
    "plt.subplot(1,2,2)\n",
    "plt.plot(hist.history['acc'], 'r', label = 'val_accuracy')\n",
    "plt.legend(loc='upper right')\n",
    "# model.summary()\n",
    "# model.get_weights()"
   ]
  },
  {
   "cell_type": "code",
   "execution_count": 70,
   "metadata": {},
   "outputs": [
    {
     "name": "stdout",
     "output_type": "stream",
     "text": [
      "WARNING:tensorflow:5 out of the last 6 calls to <function Model.make_predict_function.<locals>.predict_function at 0x000002D31EDAE4C0> triggered tf.function retracing. Tracing is expensive and the excessive number of tracings could be due to (1) creating @tf.function repeatedly in a loop, (2) passing tensors with different shapes, (3) passing Python objects instead of tensors. For (1), please define your @tf.function outside of the loop. For (2), @tf.function has experimental_relax_shapes=True option that relaxes argument shapes that can avoid unnecessary retracing. For (3), please refer to https://www.tensorflow.org/guide/function#controlling_retracing and https://www.tensorflow.org/api_docs/python/tf/function for  more details.\n"
     ]
    },
    {
     "data": {
      "text/plain": [
       "array([[-1.1885118],\n",
       "       [-1.1885118],\n",
       "       [-3.6001892],\n",
       "       [-4.806028 ],\n",
       "       [-6.0118666],\n",
       "       [-7.2177052]], dtype=float32)"
      ]
     },
     "execution_count": 70,
     "metadata": {},
     "output_type": "execute_result"
    }
   ],
   "source": [
    "model.predict(x)"
   ]
  },
  {
   "cell_type": "code",
   "execution_count": 33,
   "metadata": {},
   "outputs": [
    {
     "data": {
      "text/plain": [
       "[array([[-1.1640885]], dtype=float32), array([0.05907613], dtype=float32)]"
      ]
     },
     "execution_count": 33,
     "metadata": {},
     "output_type": "execute_result"
    }
   ],
   "source": [
    "# model.summary()\n",
    "model.get_weights()"
   ]
  },
  {
   "cell_type": "code",
   "execution_count": 75,
   "metadata": {},
   "outputs": [
    {
     "data": {
      "text/plain": [
       "[array([[ 0.08334005, -0.29660565,  0.17884266, -0.56124383]],\n",
       "       dtype=float32),\n",
       " array([0., 0., 0., 0.], dtype=float32),\n",
       " array([[-0.32336175, -0.66899645,  0.27413416],\n",
       "        [-0.36288744, -0.3022557 , -0.68477273],\n",
       "        [ 0.38106263,  0.40476227, -0.20340782],\n",
       "        [ 0.56833684, -0.0420264 ,  0.01816851]], dtype=float32),\n",
       " array([0., 0., 0.], dtype=float32),\n",
       " array([[ 0.2388494],\n",
       "        [-0.482212 ],\n",
       "        [ 1.2190663]], dtype=float32),\n",
       " array([0.], dtype=float32)]"
      ]
     },
     "execution_count": 75,
     "metadata": {},
     "output_type": "execute_result"
    }
   ],
   "source": [
    "x=np.array([1,2,3,4,5,6])\n",
    "y=np.array([10,98,8,2,3,4])\n",
    "\n",
    "# w값 바꾸지 않기 위해 사용함,검증용이며 실제에서는 seed 하지 않음.\n",
    "tf.random.set_seed(1234)  \n",
    "\n",
    "input_layer = tf.keras.layers.InputLayer(input_shape=(1,))\n",
    "hidden_layer1 = tf.keras.layers.Dense(units=4, activation='relu')\n",
    "hidden_layer2 = tf.keras.layers.Dense(units=3, activation='relu')\n",
    "output_layer= tf.keras.layers.Dense(units=1)  \n",
    "# activation이 없으면 활성화함수 wx+b가 되어있는 것임.\n",
    "\n",
    "model = keras.Sequential([\n",
    "    input_layer,\n",
    "    hidden_layer1,\n",
    "    hidden_layer2,\n",
    "    output_layer\n",
    "    ])\n",
    "\n",
    "\n",
    "model.get_weights()"
   ]
  },
  {
   "cell_type": "code",
   "execution_count": 76,
   "metadata": {},
   "outputs": [
    {
     "name": "stdout",
     "output_type": "stream",
     "text": [
      "Model: \"sequential_46\"\n",
      "_________________________________________________________________\n",
      " Layer (type)                Output Shape              Param #   \n",
      "=================================================================\n",
      " dense_49 (Dense)            (None, 4)                 8         \n",
      "                                                                 \n",
      " dense_50 (Dense)            (None, 3)                 15        \n",
      "                                                                 \n",
      " dense_51 (Dense)            (None, 1)                 4         \n",
      "                                                                 \n",
      "=================================================================\n",
      "Total params: 27\n",
      "Trainable params: 27\n",
      "Non-trainable params: 0\n",
      "_________________________________________________________________\n"
     ]
    }
   ],
   "source": [
    "model.summary()"
   ]
  },
  {
   "cell_type": "code",
   "execution_count": null,
   "metadata": {},
   "outputs": [],
   "source": []
  },
  {
   "cell_type": "code",
   "execution_count": null,
   "metadata": {},
   "outputs": [],
   "source": []
  }
 ],
 "metadata": {
  "kernelspec": {
   "display_name": "gpu",
   "language": "python",
   "name": "python3"
  },
  "language_info": {
   "codemirror_mode": {
    "name": "ipython",
    "version": 3
   },
   "file_extension": ".py",
   "mimetype": "text/x-python",
   "name": "python",
   "nbconvert_exporter": "python",
   "pygments_lexer": "ipython3",
   "version": "3.9.16"
  },
  "orig_nbformat": 4
 },
 "nbformat": 4,
 "nbformat_minor": 2
}
