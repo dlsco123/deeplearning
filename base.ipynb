{
 "cells": [
  {
   "cell_type": "code",
   "execution_count": 1,
   "metadata": {},
   "outputs": [
    {
     "name": "stdout",
     "output_type": "stream",
     "text": [
      "0.25 input x를 sigmoid로 계산한 결과 == 0.5621765008857981\n",
      "7 input x를 sigmoid로 계산한 결과 == 0.9990889488055994\n",
      "9 input x를 sigmoid로 계산한 결과 == 0.9998766054240137\n",
      "20 input x를 sigmoid로 계산한 결과 == 0.9999999979388463\n"
     ]
    }
   ],
   "source": [
    "from scipy.special import expit\n",
    "xL=[0.25,7,9,20]\n",
    "for x in xL:\n",
    "    print(x, 'input x를 sigmoid로 계산한 결과 ==', expit(x))"
   ]
  },
  {
   "cell_type": "code",
   "execution_count": 2,
   "metadata": {},
   "outputs": [
    {
     "name": "stdout",
     "output_type": "stream",
     "text": [
      "[0.5621765008857981, 0.9990889488055994, 0.9998766054240137, 0.9999999979388463]\n"
     ]
    },
    {
     "data": {
      "text/plain": [
       "[<matplotlib.lines.Line2D at 0x16cef46dc40>]"
      ]
     },
     "execution_count": 2,
     "metadata": {},
     "output_type": "execute_result"
    },
    {
     "data": {
      "image/png": "[encoded data removed]",
      "text/plain": [
       "<Figure size 640x480 with 1 Axes>"
      ]
     },
     "metadata": {},
     "output_type": "display_data"
    }
   ],
   "source": [
    "import numpy as np\n",
    "xList = [0.25,7,9,20]\n",
    "yList=[]\n",
    "for x값 in xList:\n",
    "    yList.append(1/ (1+np.exp(-x값)))\n",
    "print(yList)\n",
    "\n",
    "import matplotlib.pyplot as plt\n",
    "plt.plot(xList,yList)"
   ]
  },
  {
   "cell_type": "code",
   "execution_count": 3,
   "metadata": {},
   "outputs": [
    {
     "data": {
      "text/html": [
       "<div>\n",
       "<style scoped>\n",
       "    .dataframe tbody tr th:only-of-type {\n",
       "        vertical-align: middle;\n",
       "    }\n",
       "\n",
       "    .dataframe tbody tr th {\n",
       "        vertical-align: top;\n",
       "    }\n",
       "\n",
       "    .dataframe thead th {\n",
       "        text-align: right;\n",
       "    }\n",
       "</style>\n",
       "<table border=\"1\" class=\"dataframe\">\n",
       "  <thead>\n",
       "    <tr style=\"text-align: right;\">\n",
       "      <th></th>\n",
       "      <th>방갯수</th>\n",
       "      <th>건축년도</th>\n",
       "      <th>재건축여부</th>\n",
       "    </tr>\n",
       "  </thead>\n",
       "  <tbody>\n",
       "    <tr>\n",
       "      <th>0</th>\n",
       "      <td>1</td>\n",
       "      <td>1</td>\n",
       "      <td>1</td>\n",
       "    </tr>\n",
       "    <tr>\n",
       "      <th>1</th>\n",
       "      <td>2</td>\n",
       "      <td>0</td>\n",
       "      <td>0</td>\n",
       "    </tr>\n",
       "    <tr>\n",
       "      <th>2</th>\n",
       "      <td>1</td>\n",
       "      <td>0</td>\n",
       "      <td>0</td>\n",
       "    </tr>\n",
       "    <tr>\n",
       "      <th>3</th>\n",
       "      <td>1</td>\n",
       "      <td>1</td>\n",
       "      <td>1</td>\n",
       "    </tr>\n",
       "    <tr>\n",
       "      <th>4</th>\n",
       "      <td>2</td>\n",
       "      <td>0</td>\n",
       "      <td>1</td>\n",
       "    </tr>\n",
       "    <tr>\n",
       "      <th>5</th>\n",
       "      <td>1</td>\n",
       "      <td>0</td>\n",
       "      <td>1</td>\n",
       "    </tr>\n",
       "    <tr>\n",
       "      <th>6</th>\n",
       "      <td>3</td>\n",
       "      <td>1</td>\n",
       "      <td>1</td>\n",
       "    </tr>\n",
       "    <tr>\n",
       "      <th>7</th>\n",
       "      <td>4</td>\n",
       "      <td>1</td>\n",
       "      <td>0</td>\n",
       "    </tr>\n",
       "  </tbody>\n",
       "</table>\n",
       "</div>"
      ],
      "text/plain": [
       "   방갯수  건축년도  재건축여부\n",
       "0    1     1      1\n",
       "1    2     0      0\n",
       "2    1     0      0\n",
       "3    1     1      1\n",
       "4    2     0      1\n",
       "5    1     0      1\n",
       "6    3     1      1\n",
       "7    4     1      0"
      ]
     },
     "execution_count": 3,
     "metadata": {},
     "output_type": "execute_result"
    }
   ],
   "source": [
    "### 샘플\n",
    "\n",
    "import pandas as  pd\n",
    "roomCnt=[1,2,1,1,2,1,3,4]  # 방갯수\n",
    "year=[2001,1997,1998,2020,1994,1999,2000,2010] #건축년도\n",
    "재건축여부=[1,0,0,1,1,1,1,0]\n",
    "\n",
    "df=pd.DataFrame({'방갯수':roomCnt,'건축년도':year,'재건축여부':재건축여부})\n",
    "\n",
    "df['건축년도']=df['건축년도']/2000      #스케일링,표준화,정규화\n",
    "df['건축년도']=df['건축년도'].astype('int32')    # 정수값으로 변환\n",
    "\n",
    "x=df[['방갯수','건축년도']].values\n",
    "y=df['재건축여부'].values\n",
    "df"
   ]
  },
  {
   "cell_type": "code",
   "execution_count": 4,
   "metadata": {},
   "outputs": [
    {
     "name": "stdout",
     "output_type": "stream",
     "text": [
      "1/1 [==============================] - 1s 1s/step - loss: 0.7385 - accuracy: 0.2500\n",
      "<keras.callbacks.History object at 0x0000016CFA601B50>\n",
      "Model: \"sequential\"\n",
      "_________________________________________________________________\n",
      " Layer (type)                Output Shape              Param #   \n",
      "=================================================================\n",
      " dense (Dense)               (None, 1)                 3         \n",
      "                                                                 \n",
      "=================================================================\n",
      "Total params: 3\n",
      "Trainable params: 3\n",
      "Non-trainable params: 0\n",
      "_________________________________________________________________\n"
     ]
    }
   ],
   "source": [
    "import tensorflow as tf\n",
    "from tensorflow import keras\n",
    "from tensorflow.keras import layers\n",
    "tf.random.set_seed(1234)  # w값 바꾸지 않기 위해 사용함\n",
    "input_layer = tf.keras.layers.InputLayer(input_shape=(2,))\n",
    "output_layer= tf.keras.layers.Dense(units=1,activation='sigmoid')\n",
    "\n",
    "model = keras.Sequential([input_layer,output_layer])\n",
    "model.compile(loss='binary_crossentropy', metrics=['accuracy'])\n",
    "print(model.fit(x, y))\n",
    "model.summary()  # 구축된 레이처층을 보여줌"
   ]
  },
  {
   "cell_type": "code",
   "execution_count": 5,
   "metadata": {},
   "outputs": [
    {
     "data": {
      "text/plain": [
       "<tf.Tensor: shape=(8, 1), dtype=float32, numpy=\n",
       "array([[0.43392918],\n",
       "       [0.55593234],\n",
       "       [0.5284482 ],\n",
       "       [0.43392918],\n",
       "       [0.55593234],\n",
       "       [0.5284482 ],\n",
       "       [0.48891923],\n",
       "       [0.5165998 ]], dtype=float32)>"
      ]
     },
     "execution_count": 5,
     "metadata": {},
     "output_type": "execute_result"
    }
   ],
   "source": [
    "tmp=tf.keras.Model(inputs=model.input, \n",
    "                outputs=model.layers[0].output)(x)\n",
    "tmp "
   ]
  },
  {
   "cell_type": "code",
   "execution_count": 6,
   "metadata": {},
   "outputs": [
    {
     "data": {
      "text/plain": [
       "[array([[ 0.11075377],\n",
       "        [-0.37975395]], dtype=float32),\n",
       " array([0.00316227], dtype=float32)]"
      ]
     },
     "execution_count": 6,
     "metadata": {},
     "output_type": "execute_result"
    }
   ],
   "source": [
    "model.get_weights()"
   ]
  },
  {
   "cell_type": "code",
   "execution_count": 7,
   "metadata": {},
   "outputs": [],
   "source": [
    "#model.get_config()\n",
    "w=model.get_weights()[0]\n",
    "b=model.get_weights()[1]"
   ]
  },
  {
   "cell_type": "code",
   "execution_count": 9,
   "metadata": {},
   "outputs": [
    {
     "name": "stdout",
     "output_type": "stream",
     "text": [
      "1/1 [==============================] - 0s 234ms/step - loss: 0.6920 - accuracy: 0.3750\n",
      "<keras.callbacks.History object at 0x0000016C922BDBB0>\n",
      "Model: \"sequential_1\"\n",
      "_________________________________________________________________\n",
      " Layer (type)                Output Shape              Param #   \n",
      "=================================================================\n",
      " dense_1 (Dense)             (None, 1)                 3         \n",
      "                                                                 \n",
      " dense_2 (Dense)             (None, 1)                 2         \n",
      "                                                                 \n",
      "=================================================================\n",
      "Total params: 5\n",
      "Trainable params: 5\n",
      "Non-trainable params: 0\n",
      "_________________________________________________________________\n"
     ]
    }
   ],
   "source": [
    "import tensorflow as tf\n",
    "from tensorflow import keras\n",
    "from tensorflow.keras import layers\n",
    "tf.random.set_seed(1234)  # w값 바꾸지 않기 위해 사용함\n",
    "input_layer = tf.keras.layers.InputLayer(input_shape=(2,))\n",
    "hi=tf.keras.layers.Dense(units=1,activation='relu')\n",
    "output_layer= tf.keras.layers.Dense(units=1,activation='sigmoid')\n",
    "\n",
    "model = keras.Sequential([input_layer,hi,output_layer])\n",
    "model.compile(loss='binary_crossentropy', metrics=['accuracy'])\n",
    "print(model.fit(x, y))\n",
    "model.summary()  # 구축된 레이처층을 보여줌"
   ]
  },
  {
   "cell_type": "code",
   "execution_count": 11,
   "metadata": {},
   "outputs": [
    {
     "data": {
      "text/plain": [
       "<tf.Tensor: shape=(8, 1), dtype=float32, numpy=\n",
       "array([[0.        ],\n",
       "       [0.22466981],\n",
       "       [0.11391602],\n",
       "       [0.        ],\n",
       "       [0.22466981],\n",
       "       [0.11391602],\n",
       "       [0.        ],\n",
       "       [0.06642342]], dtype=float32)>"
      ]
     },
     "execution_count": 11,
     "metadata": {},
     "output_type": "execute_result"
    }
   ],
   "source": [
    "tmp=tf.keras.Model(inputs=model.input, \n",
    "                   outputs=model.layers[0].output)(x)\n",
    "tmp "
   ]
  },
  {
   "cell_type": "code",
   "execution_count": 12,
   "metadata": {},
   "outputs": [
    {
     "data": {
      "text/plain": [
       "[array([[ 0.11075378],\n",
       "        [-0.37975395]], dtype=float32),\n",
       " array([0.00316224], dtype=float32),\n",
       " array([[-0.60811526]], dtype=float32),\n",
       " array([0.00316227], dtype=float32)]"
      ]
     },
     "execution_count": 12,
     "metadata": {},
     "output_type": "execute_result"
    }
   ],
   "source": [
    "model.get_weights()"
   ]
  },
  {
   "cell_type": "code",
   "execution_count": 14,
   "metadata": {},
   "outputs": [
    {
     "data": {
      "text/plain": [
       "<tf.Tensor: shape=(8, 1), dtype=float32, numpy=\n",
       "array([[0.5007906 ],\n",
       "       [0.46668372],\n",
       "       [0.4834781 ],\n",
       "       [0.5007906 ],\n",
       "       [0.46668372],\n",
       "       [0.4834781 ],\n",
       "       [0.5007906 ],\n",
       "       [0.49069336]], dtype=float32)>"
      ]
     },
     "execution_count": 14,
     "metadata": {},
     "output_type": "execute_result"
    }
   ],
   "source": [
    "tmp=tf.keras.Model(inputs=model.input, \n",
    "                   outputs=model.layers[1].output)(x)\n",
    "tmp "
   ]
  },
  {
   "cell_type": "code",
   "execution_count": 15,
   "metadata": {},
   "outputs": [
    {
     "name": "stdout",
     "output_type": "stream",
     "text": [
      "[[0.5007906 ]\n",
      " [0.46668372]\n",
      " [0.4834781 ]\n",
      " [0.5007906 ]\n",
      " [0.46668372]\n",
      " [0.4834781 ]\n",
      " [0.5007906 ]\n",
      " [0.49069336]]\n"
     ]
    }
   ],
   "source": [
    "print(model.predict(x))"
   ]
  },
  {
   "cell_type": "code",
   "execution_count": 16,
   "metadata": {},
   "outputs": [
    {
     "name": "stdout",
     "output_type": "stream",
     "text": [
      "------------------------------------------------------------------------------------------------------------------------------------------------------------------------------------------------------------------------------------------------------------------------------------------------------------\n",
      "1/1 [==============================] - 0s 98ms/step - loss: 0.6909 - accuracy: 0.7500\n"
     ]
    },
    {
     "data": {
      "text/plain": [
       "[0.6909422874450684, 0.75]"
      ]
     },
     "execution_count": 16,
     "metadata": {},
     "output_type": "execute_result"
    }
   ],
   "source": [
    "# binary_crossentropy 값 출력\n",
    "print('-'*300)\n",
    "model.evaluate(x, y)"
   ]
  },
  {
   "cell_type": "code",
   "execution_count": 17,
   "metadata": {},
   "outputs": [
    {
     "data": {
      "text/plain": [
       "0.6909422054886818"
      ]
     },
     "execution_count": 17,
     "metadata": {},
     "output_type": "execute_result"
    }
   ],
   "source": [
    "### binary-crossentropy(직접계산한값)\n",
    "yhat=model.predict(x)\n",
    "y=y.reshape(8,1)\n",
    "err=y * np.log(yhat) + (1 - y) * np.log(1 - yhat)\n",
    "-np.mean(err)"
   ]
  },
  {
   "attachments": {},
   "cell_type": "markdown",
   "metadata": {},
   "source": [
    "## SOFTMAX"
   ]
  },
  {
   "cell_type": "code",
   "execution_count": 18,
   "metadata": {},
   "outputs": [
    {
     "data": {
      "text/plain": [
       "array([0, 0, 1, 3, 2, 3])"
      ]
     },
     "execution_count": 18,
     "metadata": {},
     "output_type": "execute_result"
    }
   ],
   "source": [
    "# 문자열을 숫자로 변환해주는 모듈\n",
    "from sklearn.preprocessing import LabelEncoder\n",
    "\n",
    "yList=['가방','가방','신발','핸드폰','티셔츠','핸드폰']\n",
    "e = LabelEncoder()\n",
    "e.fit(yList)\n",
    "ydata=e.transform(yList)\n",
    "ydata"
   ]
  },
  {
   "cell_type": "code",
   "execution_count": 19,
   "metadata": {},
   "outputs": [
    {
     "data": {
      "text/plain": [
       "(array([0, 1, 2, 3]), 4)"
      ]
     },
     "execution_count": 19,
     "metadata": {},
     "output_type": "execute_result"
    }
   ],
   "source": [
    "import numpy as np\n",
    "np.unique(ydata), len(np.unique(ydata))"
   ]
  },
  {
   "cell_type": "code",
   "execution_count": 20,
   "metadata": {},
   "outputs": [
    {
     "data": {
      "text/plain": [
       "array([[1., 0., 0., 0.],\n",
       "       [1., 0., 0., 0.],\n",
       "       [0., 1., 0., 0.],\n",
       "       [0., 0., 0., 1.],\n",
       "       [0., 0., 1., 0.],\n",
       "       [0., 0., 0., 1.]], dtype=float32)"
      ]
     },
     "execution_count": 20,
     "metadata": {},
     "output_type": "execute_result"
    }
   ],
   "source": [
    "import tensorflow as tf\n",
    "y_encoded = tf.keras.utils.to_categorical(ydata)\n",
    "y_encoded"
   ]
  },
  {
   "cell_type": "code",
   "execution_count": 23,
   "metadata": {},
   "outputs": [],
   "source": [
    "output_layer= tf.keras.layers.Dense(units=4,activation='softmax')\n",
    "\n",
    "model = keras.Sequential([input_layer,output_layer])\n",
    "model.compile(loss='categorical_crossentropy',   \n",
    "                metrics=['accuracy'])"
   ]
  },
  {
   "cell_type": "code",
   "execution_count": 24,
   "metadata": {},
   "outputs": [
    {
     "data": {
      "text/html": [
       "<div>\n",
       "<style scoped>\n",
       "    .dataframe tbody tr th:only-of-type {\n",
       "        vertical-align: middle;\n",
       "    }\n",
       "\n",
       "    .dataframe tbody tr th {\n",
       "        vertical-align: top;\n",
       "    }\n",
       "\n",
       "    .dataframe thead th {\n",
       "        text-align: right;\n",
       "    }\n",
       "</style>\n",
       "<table border=\"1\" class=\"dataframe\">\n",
       "  <thead>\n",
       "    <tr style=\"text-align: right;\">\n",
       "      <th></th>\n",
       "      <th>방갯수</th>\n",
       "      <th>건축년도</th>\n",
       "      <th>재건축여부등급</th>\n",
       "    </tr>\n",
       "  </thead>\n",
       "  <tbody>\n",
       "    <tr>\n",
       "      <th>0</th>\n",
       "      <td>1</td>\n",
       "      <td>1</td>\n",
       "      <td>A</td>\n",
       "    </tr>\n",
       "    <tr>\n",
       "      <th>1</th>\n",
       "      <td>2</td>\n",
       "      <td>0</td>\n",
       "      <td>B</td>\n",
       "    </tr>\n",
       "    <tr>\n",
       "      <th>2</th>\n",
       "      <td>1</td>\n",
       "      <td>0</td>\n",
       "      <td>A</td>\n",
       "    </tr>\n",
       "    <tr>\n",
       "      <th>3</th>\n",
       "      <td>1</td>\n",
       "      <td>1</td>\n",
       "      <td>A</td>\n",
       "    </tr>\n",
       "    <tr>\n",
       "      <th>4</th>\n",
       "      <td>2</td>\n",
       "      <td>0</td>\n",
       "      <td>C</td>\n",
       "    </tr>\n",
       "    <tr>\n",
       "      <th>5</th>\n",
       "      <td>1</td>\n",
       "      <td>0</td>\n",
       "      <td>A</td>\n",
       "    </tr>\n",
       "    <tr>\n",
       "      <th>6</th>\n",
       "      <td>3</td>\n",
       "      <td>1</td>\n",
       "      <td>A</td>\n",
       "    </tr>\n",
       "    <tr>\n",
       "      <th>7</th>\n",
       "      <td>4</td>\n",
       "      <td>1</td>\n",
       "      <td>B</td>\n",
       "    </tr>\n",
       "  </tbody>\n",
       "</table>\n",
       "</div>"
      ],
      "text/plain": [
       "   방갯수  건축년도 재건축여부등급\n",
       "0    1     1       A\n",
       "1    2     0       B\n",
       "2    1     0       A\n",
       "3    1     1       A\n",
       "4    2     0       C\n",
       "5    1     0       A\n",
       "6    3     1       A\n",
       "7    4     1       B"
      ]
     },
     "execution_count": 24,
     "metadata": {},
     "output_type": "execute_result"
    }
   ],
   "source": [
    "### 샘플\n",
    "\n",
    "import pandas as  pd\n",
    "roomCnt=[1,2,1,1,2,1,3,4]  # 방갯수\n",
    "year=[2001,1997,1998,2020,1994,1999,2000,2010] #건축년도\n",
    "재건축여부등급=['A','B','A','A','C','A','A','B']\n",
    "\n",
    "df=pd.DataFrame({'방갯수':roomCnt,'건축년도':year,'재건축여부등급':재건축여부등급})\n",
    "\n",
    "df['건축년도']=df['건축년도']/2000      #스케일링,표준화,정규화\n",
    "df['건축년도']=df['건축년도'].astype('int32')    # 정수값으로 변환\n",
    "\n",
    "x=df[['방갯수','건축년도']].values\n",
    "y=df['재건축여부등급'].values\n",
    "df"
   ]
  },
  {
   "cell_type": "code",
   "execution_count": 25,
   "metadata": {},
   "outputs": [
    {
     "data": {
      "text/plain": [
       "array([[1., 0., 0.],\n",
       "       [0., 1., 0.],\n",
       "       [1., 0., 0.],\n",
       "       [1., 0., 0.],\n",
       "       [0., 0., 1.],\n",
       "       [1., 0., 0.],\n",
       "       [1., 0., 0.],\n",
       "       [0., 1., 0.]], dtype=float32)"
      ]
     },
     "execution_count": 25,
     "metadata": {},
     "output_type": "execute_result"
    }
   ],
   "source": [
    "### y값을 원핫인코딩해야함. 안하면 loss에서 spare categorical_crossentropy를 해야함\n",
    "#tf.one_hot(y, 3,on_value=1.0, off_value=0.0)\n",
    "\n",
    "from sklearn.preprocessing import LabelEncoder \n",
    "e = LabelEncoder()\n",
    "e.fit(y)\n",
    "ydata=e.transform(y)\n",
    "ydata\n",
    "\n",
    "\n",
    "import tensorflow as tf\n",
    "y_encoded = tf.keras.utils.to_categorical(ydata)\n",
    "y_encoded"
   ]
  },
  {
   "cell_type": "code",
   "execution_count": 26,
   "metadata": {},
   "outputs": [
    {
     "name": "stdout",
     "output_type": "stream",
     "text": [
      "1/1 [==============================] - 0s 233ms/step - loss: 1.1592 - accuracy: 0.1250\n",
      "<keras.callbacks.History object at 0x0000016CFB320E20>\n",
      "Model: \"sequential_4\"\n",
      "_________________________________________________________________\n",
      " Layer (type)                Output Shape              Param #   \n",
      "=================================================================\n",
      " dense_5 (Dense)             (None, 2)                 6         \n",
      "                                                                 \n",
      " dense_6 (Dense)             (None, 3)                 9         \n",
      "                                                                 \n",
      "=================================================================\n",
      "Total params: 15\n",
      "Trainable params: 15\n",
      "Non-trainable params: 0\n",
      "_________________________________________________________________\n"
     ]
    }
   ],
   "source": [
    "import tensorflow as tf\n",
    "from tensorflow import keras\n",
    "from tensorflow.keras import layers\n",
    "tf.random.set_seed(1234)  # w값 바꾸지 않기 위해 사용함\n",
    "input_layer = tf.keras.layers.InputLayer(input_shape=(2,))\n",
    "hi=tf.keras.layers.Dense(units=2,activation='relu')\n",
    "output_layer= tf.keras.layers.Dense(units=3,activation='softmax')  # 3개중에 한개임\n",
    "\n",
    "model = keras.Sequential([\n",
    "    input_layer,\n",
    "    hi,\n",
    "    output_layer\n",
    "    ])\n",
    "model.compile(loss='categorical_crossentropy', \n",
    "              metrics=['accuracy'])\n",
    "\n",
    "print(model.fit(x, y_encoded))\n",
    "model.summary()\n"
   ]
  },
  {
   "cell_type": "code",
   "execution_count": 27,
   "metadata": {},
   "outputs": [
    {
     "data": {
      "text/plain": [
       "<tf.Tensor: shape=(8, 2), dtype=float32, numpy=\n",
       "array([[0.2836423 , 0.        ],\n",
       "       [0.17686711, 0.        ],\n",
       "       [0.08685242, 0.        ],\n",
       "       [0.2836423 , 0.        ],\n",
       "       [0.17686711, 0.        ],\n",
       "       [0.08685242, 0.        ],\n",
       "       [0.46367165, 0.        ],\n",
       "       [0.5536864 , 0.        ]], dtype=float32)>"
      ]
     },
     "execution_count": 27,
     "metadata": {},
     "output_type": "execute_result"
    }
   ],
   "source": [
    "tmp=tf.keras.Model(inputs=model.input, outputs=model.layers[0].output)(x)\n",
    "tmp "
   ]
  },
  {
   "cell_type": "code",
   "execution_count": 28,
   "metadata": {},
   "outputs": [],
   "source": [
    "tmp=tf.keras.Model(inputs=model.input, outputs=model.layers[1].output)(x)"
   ]
  },
  {
   "cell_type": "code",
   "execution_count": 29,
   "metadata": {},
   "outputs": [
    {
     "name": "stdout",
     "output_type": "stream",
     "text": [
      "1/1 [==============================] - 0s 171ms/step - loss: 1.1543 - accuracy: 0.1250\n"
     ]
    },
    {
     "data": {
      "text/plain": [
       "[1.1543426513671875, 0.125]"
      ]
     },
     "execution_count": 29,
     "metadata": {},
     "output_type": "execute_result"
    }
   ],
   "source": [
    "model.evaluate(x,y_encoded)"
   ]
  }
 ],
 "metadata": {
  "kernelspec": {
   "display_name": "gpu",
   "language": "python",
   "name": "python3"
  },
  "language_info": {
   "codemirror_mode": {
    "name": "ipython",
    "version": 3
   },
   "file_extension": ".py",
   "mimetype": "text/x-python",
   "name": "python",
   "nbconvert_exporter": "python",
   "pygments_lexer": "ipython3",
   "version": "3.9.16"
  },
  "orig_nbformat": 4
 },
 "nbformat": 4,
 "nbformat_minor": 2
}
