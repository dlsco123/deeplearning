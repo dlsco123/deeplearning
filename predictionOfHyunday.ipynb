{
 "cells": [
  {
   "cell_type": "code",
   "execution_count": 12,
   "metadata": {},
   "outputs": [
    {
     "name": "stdout",
     "output_type": "stream",
     "text": [
      "2.8.0\n"
     ]
    }
   ],
   "source": [
    "##########데이터 로드import pathlib\n",
    "# !pip install openpyxl\n",
    "import matplotlib.pyplot as plt\n",
    "import pandas as pd\n",
    "import seaborn as sns\n",
    "\n",
    "import tensorflow as tf\n",
    "from tensorflow import keras\n",
    "from tensorflow.keras import layers\n",
    "\n",
    "from sklearn.preprocessing import OneHotEncoder\n",
    "from sklearn.compose import make_column_transformer\n",
    "\n",
    "print(tf.__version__)"
   ]
  },
  {
   "attachments": {},
   "cell_type": "markdown",
   "metadata": {},
   "source": [
    "## Loading data"
   ]
  },
  {
   "cell_type": "code",
   "execution_count": 7,
   "metadata": {},
   "outputs": [],
   "source": [
    "train_df = pd.read_excel('https://github.com/cranberryai/todak_todak_python/blob/master/machine_learning/regression/carprice_E1SUl6b.xlsx?raw=true', sheet_name='train')\n",
    "test_df = pd.read_excel('https://github.com/cranberryai/todak_todak_python/blob/master/machine_learning/regression/carprice_E1SUl6b.xlsx?raw=true', sheet_name='test')"
   ]
  },
  {
   "cell_type": "code",
   "execution_count": 19,
   "metadata": {},
   "outputs": [
    {
     "name": "stdout",
     "output_type": "stream",
     "text": [
      "가격       0\n",
      "년식       0\n",
      "종류       0\n",
      "연비       0\n",
      "마력       0\n",
      "토크       0\n",
      "연료       0\n",
      "하이브리드    0\n",
      "배기량      0\n",
      "중량       0\n",
      "변속기      0\n",
      "dtype: int64 가격       0\n",
      "년식       0\n",
      "종류       0\n",
      "연비       0\n",
      "마력       0\n",
      "토크       0\n",
      "연료       0\n",
      "하이브리드    0\n",
      "배기량      0\n",
      "중량       0\n",
      "변속기      0\n",
      "dtype: int64\n"
     ]
    }
   ],
   "source": [
    "print(train_df.isna().sum(), test_df.isna().sum())"
   ]
  },
  {
   "cell_type": "code",
   "execution_count": 11,
   "metadata": {},
   "outputs": [
    {
     "name": "stdout",
     "output_type": "stream",
     "text": [
      "     년식   종류    연비   마력    토크   연료  하이브리드   배기량    중량 변속기\n",
      "0  2015  준중형  11.8  172  21.0  가솔린      0  1999  1300  자동\n",
      "1  2015  준중형  12.3  204  27.0  가솔린      0  1591  1300  자동\n",
      "2  2015   소형  15.0  100  13.6  가솔린      0  1368  1035  수동\n",
      "3  2014   소형  14.0  140  17.0  가솔린      0  1591  1090  자동\n",
      "4  2015   대형   9.6  175  46.0   디젤      0  2497  1990  자동\n"
     ]
    }
   ],
   "source": [
    "x_train_df = train_df.drop(['가격'], axis=1)\n",
    "x_test_df = test_df.drop(['가격'], axis=1)\n",
    "y_train_df = train_df['가격']\n",
    "y_test_df = test_df['가격']\n",
    "\n",
    "print(x_train_df.head())"
   ]
  },
  {
   "cell_type": "code",
   "execution_count": 27,
   "metadata": {},
   "outputs": [
    {
     "data": {
      "text/plain": [
       "변속기\n",
       "자동    51\n",
       "수동    20\n",
       "Name: count, dtype: int64"
      ]
     },
     "execution_count": 27,
     "metadata": {},
     "output_type": "execute_result"
    }
   ],
   "source": [
    "x_train_df['종류'].value_counts() #대형,소형,준중형, 중형\n",
    "x_train_df['연료'].value_counts() # 가솔린, 디젤, LPG\n",
    "x_train_df['변속기'].value_counts() # 자동, 수동"
   ]
  },
  {
   "cell_type": "code",
   "execution_count": 31,
   "metadata": {},
   "outputs": [],
   "source": [
    "transformer = make_column_transformer(\n",
    "    (OneHotEncoder(), ['종류', '연료', '변속기']),\n",
    "    remainder='passthrough') # drop이 default\n",
    "\n",
    "transformer.fit(x_train_df)\n",
    "x_train = transformer.transform(x_train_df)\n",
    "x_train[0]\n",
    "\n",
    "# array([0.000e+00, 0.000e+00, 1.000e+00, 0.000e+00, 0.000e+00, 1.000e+00,\n",
    "#        0.000e+00, 0.000e+00, 1.000e+00, 2.015e+03, 1.180e+01, 1.720e+02,\n",
    "#        2.100e+01, 0.000e+00, 1.999e+03, 1.300e+03])\n",
    "#  ==    [0 0 1 0] [0 1 0] [0 1] 2015 11.8 172 21 0 1999 1300\n",
    "# 0  2015  준중형(종류)  11.8  172  21.0  가솔린(연료)      0  1999  1300  자동(변속기)\n",
    "# 종류 [0 0 1 0], 연료[0 1 0], 변속기 [0 1]\n",
    "\n",
    "x_test = transformer.transform(x_train_df)"
   ]
  },
  {
   "cell_type": "code",
   "execution_count": 34,
   "metadata": {},
   "outputs": [
    {
     "data": {
      "text/plain": [
       "372.99665492957746"
      ]
     },
     "execution_count": 34,
     "metadata": {},
     "output_type": "execute_result"
    }
   ],
   "source": [
    "import numpy as np\n",
    "np.mean(x_train)"
   ]
  },
  {
   "cell_type": "code",
   "execution_count": 37,
   "metadata": {},
   "outputs": [],
   "source": [
    "def norm(x):\n",
    "    return (x - np.mean(x_train)) / np.std(x_train)\n",
    "normed_train_data = norm(x_train)\n",
    "normed_test_data = norm(x_test)"
   ]
  },
  {
   "cell_type": "code",
   "execution_count": 73,
   "metadata": {},
   "outputs": [
    {
     "data": {
      "text/plain": [
       "(71, 16)"
      ]
     },
     "execution_count": 73,
     "metadata": {},
     "output_type": "execute_result"
    }
   ],
   "source": [
    "np.shape(x_train)"
   ]
  },
  {
   "cell_type": "code",
   "execution_count": 74,
   "metadata": {},
   "outputs": [
    {
     "data": {
      "text/plain": [
       "10"
      ]
     },
     "execution_count": 74,
     "metadata": {},
     "output_type": "execute_result"
    }
   ],
   "source": [
    "# len(x_train_df.keys())"
   ]
  },
  {
   "attachments": {},
   "cell_type": "markdown",
   "metadata": {},
   "source": [
    "## Building the Model"
   ]
  },
  {
   "cell_type": "code",
   "execution_count": 136,
   "metadata": {},
   "outputs": [
    {
     "data": {
      "text/plain": [
       "array([[0.22726093],\n",
       "       [0.16416596],\n",
       "       [0.16021943],\n",
       "       [0.17514846],\n",
       "       [0.40050787],\n",
       "       [0.33766463],\n",
       "       [0.3281957 ],\n",
       "       [0.16346228],\n",
       "       [0.25444078],\n",
       "       [0.1637625 ]], dtype=float32)"
      ]
     },
     "execution_count": 136,
     "metadata": {},
     "output_type": "execute_result"
    }
   ],
   "source": [
    "def build_model():\n",
    "    model = keras.Sequential([\n",
    "    layers.Dense(64, activation='relu', input_shape=[16]),\n",
    "    layers.Dense(64, activation='relu'),\n",
    "    layers.Dense(1)\n",
    "    ])\n",
    "\n",
    "    optimizer = tf.keras.optimizers.RMSprop(100)\n",
    "\n",
    "    model.compile(loss='mse',\n",
    "                optimizer=optimizer,\n",
    "                metrics=['mae', 'mse', 'acc'])\n",
    "    return model\n",
    "model = build_model()\n",
    "\n",
    "example_batch = normed_train_data[:10]\n",
    "example_result = model.predict(example_batch)\n",
    "example_result"
   ]
  },
  {
   "attachments": {},
   "cell_type": "markdown",
   "metadata": {},
   "source": [
    "## 모델 훈련"
   ]
  },
  {
   "cell_type": "code",
   "execution_count": 140,
   "metadata": {},
   "outputs": [
    {
     "name": "stdout",
     "output_type": "stream",
     "text": [
      "\n",
      "....................................................................................................\n",
      "....................................................................................................\n",
      "....................................................................................................\n",
      "....................................................................................................\n",
      "....................................................................................................\n",
      "....................................................................................................\n",
      "....................................................................................................\n",
      "....................................................................................................\n",
      "....................................................................................................\n",
      "...................................................................................................."
     ]
    }
   ],
   "source": [
    "# 에포크가 끝날 때마다 점(.)을 출력해 훈련 진행 과정을 표시합니다\n",
    "class PrintDot(keras.callbacks.Callback):\n",
    "    def on_epoch_end(self, epoch, logs):\n",
    "        if epoch % 100 == 0: print('')\n",
    "        print('.', end='')\n",
    "\n",
    "EPOCHS = 1000\n",
    "\n",
    "history = model.fit(\n",
    "    normed_train_data, y_train_df,\n",
    "    epochs=EPOCHS, validation_split = 0.2, verbose=0,\n",
    "    callbacks=[PrintDot()])"
   ]
  },
  {
   "cell_type": "code",
   "execution_count": 120,
   "metadata": {},
   "outputs": [
    {
     "data": {
      "text/html": [
       "<div>\n",
       "<style scoped>\n",
       "    .dataframe tbody tr th:only-of-type {\n",
       "        vertical-align: middle;\n",
       "    }\n",
       "\n",
       "    .dataframe tbody tr th {\n",
       "        vertical-align: top;\n",
       "    }\n",
       "\n",
       "    .dataframe thead th {\n",
       "        text-align: right;\n",
       "    }\n",
       "</style>\n",
       "<table border=\"1\" class=\"dataframe\">\n",
       "  <thead>\n",
       "    <tr style=\"text-align: right;\">\n",
       "      <th></th>\n",
       "      <th>loss</th>\n",
       "      <th>mae</th>\n",
       "      <th>mse</th>\n",
       "      <th>acc</th>\n",
       "      <th>val_loss</th>\n",
       "      <th>val_mae</th>\n",
       "      <th>val_mse</th>\n",
       "      <th>val_acc</th>\n",
       "      <th>epoch</th>\n",
       "    </tr>\n",
       "  </thead>\n",
       "  <tbody>\n",
       "    <tr>\n",
       "      <th>995</th>\n",
       "      <td>181008.500000</td>\n",
       "      <td>341.350616</td>\n",
       "      <td>181008.500000</td>\n",
       "      <td>0.0</td>\n",
       "      <td>1353929.875</td>\n",
       "      <td>628.641296</td>\n",
       "      <td>1353929.875</td>\n",
       "      <td>0.0</td>\n",
       "      <td>995</td>\n",
       "    </tr>\n",
       "    <tr>\n",
       "      <th>996</th>\n",
       "      <td>177564.609375</td>\n",
       "      <td>333.980743</td>\n",
       "      <td>177564.609375</td>\n",
       "      <td>0.0</td>\n",
       "      <td>1301131.125</td>\n",
       "      <td>610.777710</td>\n",
       "      <td>1301131.125</td>\n",
       "      <td>0.0</td>\n",
       "      <td>996</td>\n",
       "    </tr>\n",
       "    <tr>\n",
       "      <th>997</th>\n",
       "      <td>181245.218750</td>\n",
       "      <td>350.477203</td>\n",
       "      <td>181245.218750</td>\n",
       "      <td>0.0</td>\n",
       "      <td>1235236.375</td>\n",
       "      <td>593.216919</td>\n",
       "      <td>1235236.375</td>\n",
       "      <td>0.0</td>\n",
       "      <td>997</td>\n",
       "    </tr>\n",
       "    <tr>\n",
       "      <th>998</th>\n",
       "      <td>178463.765625</td>\n",
       "      <td>356.456360</td>\n",
       "      <td>178463.765625</td>\n",
       "      <td>0.0</td>\n",
       "      <td>1274286.000</td>\n",
       "      <td>603.233704</td>\n",
       "      <td>1274286.000</td>\n",
       "      <td>0.0</td>\n",
       "      <td>998</td>\n",
       "    </tr>\n",
       "    <tr>\n",
       "      <th>999</th>\n",
       "      <td>175115.390625</td>\n",
       "      <td>344.467224</td>\n",
       "      <td>175115.390625</td>\n",
       "      <td>0.0</td>\n",
       "      <td>1343566.375</td>\n",
       "      <td>624.745544</td>\n",
       "      <td>1343566.375</td>\n",
       "      <td>0.0</td>\n",
       "      <td>999</td>\n",
       "    </tr>\n",
       "  </tbody>\n",
       "</table>\n",
       "</div>"
      ],
      "text/plain": [
       "              loss         mae            mse  acc     val_loss     val_mae  \\\n",
       "995  181008.500000  341.350616  181008.500000  0.0  1353929.875  628.641296   \n",
       "996  177564.609375  333.980743  177564.609375  0.0  1301131.125  610.777710   \n",
       "997  181245.218750  350.477203  181245.218750  0.0  1235236.375  593.216919   \n",
       "998  178463.765625  356.456360  178463.765625  0.0  1274286.000  603.233704   \n",
       "999  175115.390625  344.467224  175115.390625  0.0  1343566.375  624.745544   \n",
       "\n",
       "         val_mse  val_acc  epoch  \n",
       "995  1353929.875      0.0    995  \n",
       "996  1301131.125      0.0    996  \n",
       "997  1235236.375      0.0    997  \n",
       "998  1274286.000      0.0    998  \n",
       "999  1343566.375      0.0    999  "
      ]
     },
     "execution_count": 120,
     "metadata": {},
     "output_type": "execute_result"
    }
   ],
   "source": [
    "hist = pd.DataFrame(history.history)\n",
    "hist['epoch'] = history.epoch\n",
    "hist.tail()"
   ]
  },
  {
   "cell_type": "code",
   "execution_count": 134,
   "metadata": {},
   "outputs": [
    {
     "data": {
      "image/png": "[encoded data removed]",
      "text/plain": [
       "<Figure size 800x1200 with 2 Axes>"
      ]
     },
     "metadata": {},
     "output_type": "display_data"
    }
   ],
   "source": [
    "import matplotlib.pyplot as plt\n",
    "\n",
    "def plot_history(history):\n",
    "        hist = pd.DataFrame(history.history)\n",
    "        hist['epoch'] = history.epoch\n",
    "\n",
    "        plt.figure(figsize=(8,12))\n",
    "\n",
    "        plt.subplot(2,1,1)\n",
    "        plt.xlabel('Epoch')\n",
    "        plt.ylabel('Mean Abs Error [MPG]')\n",
    "        plt.plot(hist['epoch'], hist['mae'],\n",
    "                label='Train Error')\n",
    "        plt.plot(hist['epoch'], hist['val_mae'],\n",
    "                label = 'Val Error')\n",
    "        # plt.ylim([0,5])\n",
    "        plt.legend()\n",
    "\n",
    "        plt.subplot(2,1,2)\n",
    "        plt.xlabel('Epoch')\n",
    "        plt.ylabel('Mean Square Error [$MPG^2$]')\n",
    "        plt.plot(hist['epoch'], hist['mse'],\n",
    "                label='Train Error')\n",
    "        plt.plot(hist['epoch'], hist['val_mse'],\n",
    "                label = 'Val Error')\n",
    "        # plt.ylim([0,20])\n",
    "        plt.legend()\n",
    "        plt.show()\n",
    "\n",
    "plot_history(history)"
   ]
  }
 ],
 "metadata": {
  "kernelspec": {
   "display_name": "gpu",
   "language": "python",
   "name": "python3"
  },
  "language_info": {
   "codemirror_mode": {
    "name": "ipython",
    "version": 3
   },
   "file_extension": ".py",
   "mimetype": "text/x-python",
   "name": "python",
   "nbconvert_exporter": "python",
   "pygments_lexer": "ipython3",
   "version": "3.9.16"
  },
  "orig_nbformat": 4
 },
 "nbformat": 4,
 "nbformat_minor": 2
}
